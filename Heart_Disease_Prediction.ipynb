{
 "cells": [
  {
   "cell_type": "code",
   "execution_count": 1,
   "metadata": {
    "executionInfo": {
     "elapsed": 1219,
     "status": "ok",
     "timestamp": 1620509528132,
     "user": {
      "displayName": "Tsz Ching Tsoi",
      "photoUrl": "",
      "userId": "12711466252453319419"
     },
     "user_tz": 420
    },
    "id": "-jA6f_pCzr9U"
   },
   "outputs": [],
   "source": [
    "import pandas as pd\n",
    "import numpy as np\n",
    "import matplotlib.pyplot as plt\n",
    "import seaborn as sns\n",
    "from sklearn.preprocessing import StandardScaler"
   ]
  },
  {
   "cell_type": "code",
   "execution_count": 73,
   "metadata": {
    "colab": {
     "base_uri": "https://localhost:8080/",
     "height": 393
    },
    "executionInfo": {
     "elapsed": 503,
     "status": "error",
     "timestamp": 1620509502670,
     "user": {
      "displayName": "Xiuzhong Yang",
      "photoUrl": "",
      "userId": "07546162211937006401"
     },
     "user_tz": 420
    },
    "id": "4wCgG4pMzr9f",
    "outputId": "fc5a810f-94de-4561-93ed-e4484def47fc"
   },
   "outputs": [
    {
     "data": {
      "text/html": [
       "<div>\n",
       "<style scoped>\n",
       "    .dataframe tbody tr th:only-of-type {\n",
       "        vertical-align: middle;\n",
       "    }\n",
       "\n",
       "    .dataframe tbody tr th {\n",
       "        vertical-align: top;\n",
       "    }\n",
       "\n",
       "    .dataframe thead th {\n",
       "        text-align: right;\n",
       "    }\n",
       "</style>\n",
       "<table border=\"1\" class=\"dataframe\">\n",
       "  <thead>\n",
       "    <tr style=\"text-align: right;\">\n",
       "      <th></th>\n",
       "      <th>age</th>\n",
       "      <th>sex</th>\n",
       "      <th>cp</th>\n",
       "      <th>trestbps</th>\n",
       "      <th>chol</th>\n",
       "      <th>fbs</th>\n",
       "      <th>restecg</th>\n",
       "      <th>thalach</th>\n",
       "      <th>exang</th>\n",
       "      <th>oldpeak</th>\n",
       "      <th>slope</th>\n",
       "      <th>ca</th>\n",
       "      <th>thal</th>\n",
       "      <th>target</th>\n",
       "    </tr>\n",
       "  </thead>\n",
       "  <tbody>\n",
       "    <tr>\n",
       "      <th>0</th>\n",
       "      <td>63</td>\n",
       "      <td>1</td>\n",
       "      <td>3</td>\n",
       "      <td>145</td>\n",
       "      <td>233</td>\n",
       "      <td>1</td>\n",
       "      <td>0</td>\n",
       "      <td>150</td>\n",
       "      <td>0</td>\n",
       "      <td>2.3</td>\n",
       "      <td>0</td>\n",
       "      <td>0</td>\n",
       "      <td>1</td>\n",
       "      <td>1</td>\n",
       "    </tr>\n",
       "    <tr>\n",
       "      <th>1</th>\n",
       "      <td>37</td>\n",
       "      <td>1</td>\n",
       "      <td>2</td>\n",
       "      <td>130</td>\n",
       "      <td>250</td>\n",
       "      <td>0</td>\n",
       "      <td>1</td>\n",
       "      <td>187</td>\n",
       "      <td>0</td>\n",
       "      <td>3.5</td>\n",
       "      <td>0</td>\n",
       "      <td>0</td>\n",
       "      <td>2</td>\n",
       "      <td>1</td>\n",
       "    </tr>\n",
       "    <tr>\n",
       "      <th>2</th>\n",
       "      <td>41</td>\n",
       "      <td>0</td>\n",
       "      <td>1</td>\n",
       "      <td>130</td>\n",
       "      <td>204</td>\n",
       "      <td>0</td>\n",
       "      <td>0</td>\n",
       "      <td>172</td>\n",
       "      <td>0</td>\n",
       "      <td>1.4</td>\n",
       "      <td>2</td>\n",
       "      <td>0</td>\n",
       "      <td>2</td>\n",
       "      <td>1</td>\n",
       "    </tr>\n",
       "    <tr>\n",
       "      <th>3</th>\n",
       "      <td>56</td>\n",
       "      <td>1</td>\n",
       "      <td>1</td>\n",
       "      <td>120</td>\n",
       "      <td>236</td>\n",
       "      <td>0</td>\n",
       "      <td>1</td>\n",
       "      <td>178</td>\n",
       "      <td>0</td>\n",
       "      <td>0.8</td>\n",
       "      <td>2</td>\n",
       "      <td>0</td>\n",
       "      <td>2</td>\n",
       "      <td>1</td>\n",
       "    </tr>\n",
       "    <tr>\n",
       "      <th>4</th>\n",
       "      <td>57</td>\n",
       "      <td>0</td>\n",
       "      <td>0</td>\n",
       "      <td>120</td>\n",
       "      <td>354</td>\n",
       "      <td>0</td>\n",
       "      <td>1</td>\n",
       "      <td>163</td>\n",
       "      <td>1</td>\n",
       "      <td>0.6</td>\n",
       "      <td>2</td>\n",
       "      <td>0</td>\n",
       "      <td>2</td>\n",
       "      <td>1</td>\n",
       "    </tr>\n",
       "  </tbody>\n",
       "</table>\n",
       "</div>"
      ],
      "text/plain": [
       "   age  sex  cp  trestbps  chol  fbs  restecg  thalach  exang  oldpeak  slope  \\\n",
       "0   63    1   3       145   233    1        0      150      0      2.3      0   \n",
       "1   37    1   2       130   250    0        1      187      0      3.5      0   \n",
       "2   41    0   1       130   204    0        0      172      0      1.4      2   \n",
       "3   56    1   1       120   236    0        1      178      0      0.8      2   \n",
       "4   57    0   0       120   354    0        1      163      1      0.6      2   \n",
       "\n",
       "   ca  thal  target  \n",
       "0   0     1       1  \n",
       "1   0     2       1  \n",
       "2   0     2       1  \n",
       "3   0     2       1  \n",
       "4   0     2       1  "
      ]
     },
     "execution_count": 73,
     "metadata": {},
     "output_type": "execute_result"
    }
   ],
   "source": [
    "df = pd.read_csv('heart.csv')\n",
    "df.head()"
   ]
  },
  {
   "cell_type": "markdown",
   "metadata": {
    "id": "Bg91z4Vqzr9g"
   },
   "source": [
    "# First of all, we change the column names to be more intuitive. "
   ]
  },
  {
   "cell_type": "code",
   "execution_count": 74,
   "metadata": {
    "id": "h3aAJHg_zr9h"
   },
   "outputs": [
    {
     "data": {
      "text/html": [
       "<div>\n",
       "<style scoped>\n",
       "    .dataframe tbody tr th:only-of-type {\n",
       "        vertical-align: middle;\n",
       "    }\n",
       "\n",
       "    .dataframe tbody tr th {\n",
       "        vertical-align: top;\n",
       "    }\n",
       "\n",
       "    .dataframe thead th {\n",
       "        text-align: right;\n",
       "    }\n",
       "</style>\n",
       "<table border=\"1\" class=\"dataframe\">\n",
       "  <thead>\n",
       "    <tr style=\"text-align: right;\">\n",
       "      <th></th>\n",
       "      <th>age</th>\n",
       "      <th>sex</th>\n",
       "      <th>chest_pain_type</th>\n",
       "      <th>resting_blood_pressure</th>\n",
       "      <th>cholesterol</th>\n",
       "      <th>fasting_blood_sugar</th>\n",
       "      <th>resting_ecg</th>\n",
       "      <th>max_heart_rate</th>\n",
       "      <th>exercise_induce_angina</th>\n",
       "      <th>ST_depression</th>\n",
       "      <th>ST_slope</th>\n",
       "      <th>num_major_vessels</th>\n",
       "      <th>blood_disorder</th>\n",
       "      <th>target</th>\n",
       "    </tr>\n",
       "  </thead>\n",
       "  <tbody>\n",
       "    <tr>\n",
       "      <th>0</th>\n",
       "      <td>63</td>\n",
       "      <td>1</td>\n",
       "      <td>3</td>\n",
       "      <td>145</td>\n",
       "      <td>233</td>\n",
       "      <td>1</td>\n",
       "      <td>0</td>\n",
       "      <td>150</td>\n",
       "      <td>0</td>\n",
       "      <td>2.3</td>\n",
       "      <td>0</td>\n",
       "      <td>0</td>\n",
       "      <td>1</td>\n",
       "      <td>1</td>\n",
       "    </tr>\n",
       "    <tr>\n",
       "      <th>1</th>\n",
       "      <td>37</td>\n",
       "      <td>1</td>\n",
       "      <td>2</td>\n",
       "      <td>130</td>\n",
       "      <td>250</td>\n",
       "      <td>0</td>\n",
       "      <td>1</td>\n",
       "      <td>187</td>\n",
       "      <td>0</td>\n",
       "      <td>3.5</td>\n",
       "      <td>0</td>\n",
       "      <td>0</td>\n",
       "      <td>2</td>\n",
       "      <td>1</td>\n",
       "    </tr>\n",
       "    <tr>\n",
       "      <th>2</th>\n",
       "      <td>41</td>\n",
       "      <td>0</td>\n",
       "      <td>1</td>\n",
       "      <td>130</td>\n",
       "      <td>204</td>\n",
       "      <td>0</td>\n",
       "      <td>0</td>\n",
       "      <td>172</td>\n",
       "      <td>0</td>\n",
       "      <td>1.4</td>\n",
       "      <td>2</td>\n",
       "      <td>0</td>\n",
       "      <td>2</td>\n",
       "      <td>1</td>\n",
       "    </tr>\n",
       "    <tr>\n",
       "      <th>3</th>\n",
       "      <td>56</td>\n",
       "      <td>1</td>\n",
       "      <td>1</td>\n",
       "      <td>120</td>\n",
       "      <td>236</td>\n",
       "      <td>0</td>\n",
       "      <td>1</td>\n",
       "      <td>178</td>\n",
       "      <td>0</td>\n",
       "      <td>0.8</td>\n",
       "      <td>2</td>\n",
       "      <td>0</td>\n",
       "      <td>2</td>\n",
       "      <td>1</td>\n",
       "    </tr>\n",
       "    <tr>\n",
       "      <th>4</th>\n",
       "      <td>57</td>\n",
       "      <td>0</td>\n",
       "      <td>0</td>\n",
       "      <td>120</td>\n",
       "      <td>354</td>\n",
       "      <td>0</td>\n",
       "      <td>1</td>\n",
       "      <td>163</td>\n",
       "      <td>1</td>\n",
       "      <td>0.6</td>\n",
       "      <td>2</td>\n",
       "      <td>0</td>\n",
       "      <td>2</td>\n",
       "      <td>1</td>\n",
       "    </tr>\n",
       "  </tbody>\n",
       "</table>\n",
       "</div>"
      ],
      "text/plain": [
       "   age  sex  chest_pain_type  resting_blood_pressure  cholesterol  \\\n",
       "0   63    1                3                     145          233   \n",
       "1   37    1                2                     130          250   \n",
       "2   41    0                1                     130          204   \n",
       "3   56    1                1                     120          236   \n",
       "4   57    0                0                     120          354   \n",
       "\n",
       "   fasting_blood_sugar  resting_ecg  max_heart_rate  exercise_induce_angina  \\\n",
       "0                    1            0             150                       0   \n",
       "1                    0            1             187                       0   \n",
       "2                    0            0             172                       0   \n",
       "3                    0            1             178                       0   \n",
       "4                    0            1             163                       1   \n",
       "\n",
       "   ST_depression  ST_slope  num_major_vessels  blood_disorder  target  \n",
       "0            2.3         0                  0               1       1  \n",
       "1            3.5         0                  0               2       1  \n",
       "2            1.4         2                  0               2       1  \n",
       "3            0.8         2                  0               2       1  \n",
       "4            0.6         2                  0               2       1  "
      ]
     },
     "execution_count": 74,
     "metadata": {},
     "output_type": "execute_result"
    }
   ],
   "source": [
    "df.columns = ['age', 'sex', 'chest_pain_type', 'resting_blood_pressure', 'cholesterol', \n",
    "              'fasting_blood_sugar', 'resting_ecg', 'max_heart_rate', 'exercise_induce_angina', 'ST_depression',\n",
    "             'ST_slope', 'num_major_vessels', 'blood_disorder', 'target']\n",
    "df.head()"
   ]
  },
  {
   "cell_type": "markdown",
   "metadata": {
    "id": "Tk-k20Vkzr9h"
   },
   "source": [
    "# Data exploration"
   ]
  },
  {
   "cell_type": "markdown",
   "metadata": {
    "id": "iM7X6kAtzr9i"
   },
   "source": [
    "## 1. Check null values"
   ]
  },
  {
   "cell_type": "code",
   "execution_count": 75,
   "metadata": {
    "id": "nRYUOpz4zr9i"
   },
   "outputs": [
    {
     "name": "stdout",
     "output_type": "stream",
     "text": [
      "<class 'pandas.core.frame.DataFrame'>\n",
      "RangeIndex: 303 entries, 0 to 302\n",
      "Data columns (total 14 columns):\n",
      " #   Column                  Non-Null Count  Dtype  \n",
      "---  ------                  --------------  -----  \n",
      " 0   age                     303 non-null    int64  \n",
      " 1   sex                     303 non-null    int64  \n",
      " 2   chest_pain_type         303 non-null    int64  \n",
      " 3   resting_blood_pressure  303 non-null    int64  \n",
      " 4   cholesterol             303 non-null    int64  \n",
      " 5   fasting_blood_sugar     303 non-null    int64  \n",
      " 6   resting_ecg             303 non-null    int64  \n",
      " 7   max_heart_rate          303 non-null    int64  \n",
      " 8   exercise_induce_angina  303 non-null    int64  \n",
      " 9   ST_depression           303 non-null    float64\n",
      " 10  ST_slope                303 non-null    int64  \n",
      " 11  num_major_vessels       303 non-null    int64  \n",
      " 12  blood_disorder          303 non-null    int64  \n",
      " 13  target                  303 non-null    int64  \n",
      "dtypes: float64(1), int64(13)\n",
      "memory usage: 33.3 KB\n"
     ]
    }
   ],
   "source": [
    "df.info()"
   ]
  },
  {
   "cell_type": "markdown",
   "metadata": {
    "id": "CLgTGyw0zr9i"
   },
   "source": [
    "### No null value in our dataset"
   ]
  },
  {
   "cell_type": "markdown",
   "metadata": {
    "id": "UsF67gYMzr9j"
   },
   "source": [
    "## 2. Check data is balanced or not"
   ]
  },
  {
   "cell_type": "code",
   "execution_count": 76,
   "metadata": {
    "id": "3FaLvEVyzr9j"
   },
   "outputs": [
    {
     "data": {
      "text/plain": [
       "1    165\n",
       "0    138\n",
       "Name: target, dtype: int64"
      ]
     },
     "execution_count": 76,
     "metadata": {},
     "output_type": "execute_result"
    },
    {
     "data": {
      "image/png": "[encoded data removed]",
      "text/plain": [
       "<Figure size 432x288 with 1 Axes>"
      ]
     },
     "metadata": {
      "needs_background": "light"
     },
     "output_type": "display_data"
    }
   ],
   "source": [
    "df.target.value_counts().plot(kind=\"bar\", color = ['blue', 'red'])\n",
    "df.target.value_counts()"
   ]
  },
  {
   "cell_type": "markdown",
   "metadata": {
    "id": "g9NkayFezr9k"
   },
   "source": [
    "### Our dataset is balanced"
   ]
  },
  {
   "cell_type": "markdown",
   "metadata": {
    "id": "ImfWjg3Lzr9k"
   },
   "source": [
    "## 3. Check the disease results within each categorical attribute"
   ]
  },
  {
   "cell_type": "markdown",
   "metadata": {
    "id": "zMsGcLr9zr9l"
   },
   "source": [
    "### Draw plots"
   ]
  },
  {
   "cell_type": "markdown",
   "metadata": {
    "id": "H_XyOJHIzr9l"
   },
   "source": [
    "#### 1. Sex"
   ]
  },
  {
   "cell_type": "code",
   "execution_count": 77,
   "metadata": {
    "id": "Xp_IF_kAzr9l"
   },
   "outputs": [
    {
     "data": {
      "text/plain": [
       "Text(0.5, 0, 'sex')"
      ]
     },
     "execution_count": 77,
     "metadata": {},
     "output_type": "execute_result"
    },
    {
     "data": {
      "image/png": "[encoded data removed]",
      "text/plain": [
       "<Figure size 432x288 with 1 Axes>"
      ]
     },
     "metadata": {
      "needs_background": "light"
     },
     "output_type": "display_data"
    }
   ],
   "source": [
    "colors = ['green', 'red']\n",
    "names = ['Have Heart Disease = NO', 'Have Heart Disease = YES']\n",
    "plt.hist([list(df[df[\"target\"] == 0]['sex']), list(df[df[\"target\"] == 1]['sex'])], bins = 35, \n",
    "         stacked = True, color = colors, label = names, alpha=0.6)\n",
    "plt.legend()\n",
    "plt.xlabel('sex')"
   ]
  },
  {
   "cell_type": "markdown",
   "metadata": {
    "id": "RWSCnwi9zr9m"
   },
   "source": [
    "#### The heart disease distribute in different gender kind of evenly"
   ]
  },
  {
   "cell_type": "markdown",
   "metadata": {
    "id": "zbhBEal0zr9m"
   },
   "source": [
    "#### 2. Chest_pain_type"
   ]
  },
  {
   "cell_type": "code",
   "execution_count": 78,
   "metadata": {
    "id": "9_OZpg-qzr9n"
   },
   "outputs": [
    {
     "data": {
      "text/plain": [
       "Text(0.5, 0, 'chest_pain_type')"
      ]
     },
     "execution_count": 78,
     "metadata": {},
     "output_type": "execute_result"
    },
    {
     "data": {
      "image/png": "[encoded data removed]",
      "text/plain": [
       "<Figure size 432x288 with 1 Axes>"
      ]
     },
     "metadata": {
      "needs_background": "light"
     },
     "output_type": "display_data"
    }
   ],
   "source": [
    "colors = ['green', 'red']\n",
    "names = ['Have Heart Disease = NO', 'Have Heart Disease = YES']\n",
    "plt.hist([list(df[df[\"target\"] == 0]['chest_pain_type']), list(df[df[\"target\"] == 1]['chest_pain_type'])], \n",
    "         bins = 35, stacked = True, color = colors, label = names, alpha=0.6)\n",
    "plt.legend()\n",
    "plt.xlabel('chest_pain_type')"
   ]
  },
  {
   "cell_type": "markdown",
   "metadata": {
    "id": "HjiEtHWJzr9o"
   },
   "source": [
    "#### For chest pain type, type 1, 2, 3 are more like to get heart disease than type 1."
   ]
  },
  {
   "cell_type": "markdown",
   "metadata": {
    "id": "GT-Qs1qIzr9o"
   },
   "source": [
    "#### 3. fasting_blood_sugar"
   ]
  },
  {
   "cell_type": "code",
   "execution_count": 79,
   "metadata": {
    "id": "_aBwvGTSzr9o"
   },
   "outputs": [
    {
     "data": {
      "text/plain": [
       "Text(0.5, 0, 'fasting_blood_sugar')"
      ]
     },
     "execution_count": 79,
     "metadata": {},
     "output_type": "execute_result"
    },
    {
     "data": {
      "image/png": "[encoded data removed]",
      "text/plain": [
       "<Figure size 432x288 with 1 Axes>"
      ]
     },
     "metadata": {
      "needs_background": "light"
     },
     "output_type": "display_data"
    }
   ],
   "source": [
    "colors = ['green', 'red']\n",
    "names = ['Have Heart Disease = NO', 'Have Heart Disease = YES']\n",
    "plt.hist([list(df[df[\"target\"] == 0]['fasting_blood_sugar']), list(df[df[\"target\"] == 1]['fasting_blood_sugar'])], \n",
    "         bins = 35, stacked = True, color = colors, label = names, alpha=0.6)\n",
    "plt.legend()\n",
    "plt.xlabel('fasting_blood_sugar')"
   ]
  },
  {
   "cell_type": "markdown",
   "metadata": {
    "id": "hKWcw_kAzr9p"
   },
   "source": [
    "#### Heart disease distributes in fasting blood sugar evenly."
   ]
  },
  {
   "cell_type": "markdown",
   "metadata": {
    "id": "vPF6SzfUzr9p"
   },
   "source": [
    "#### 4. resting_ecg"
   ]
  },
  {
   "cell_type": "code",
   "execution_count": 80,
   "metadata": {
    "id": "pIu76wAQzr9p"
   },
   "outputs": [
    {
     "data": {
      "text/plain": [
       "Text(0.5, 0, 'resting_ecg')"
      ]
     },
     "execution_count": 80,
     "metadata": {},
     "output_type": "execute_result"
    },
    {
     "data": {
      "image/png": "[encoded data removed]",
      "text/plain": [
       "<Figure size 432x288 with 1 Axes>"
      ]
     },
     "metadata": {
      "needs_background": "light"
     },
     "output_type": "display_data"
    }
   ],
   "source": [
    "colors = ['green', 'red']\n",
    "names = ['Have Heart Disease = NO', 'Have Heart Disease = YES']\n",
    "plt.hist([list(df[df[\"target\"] == 0]['resting_ecg']), list(df[df[\"target\"] == 1]['resting_ecg'])], \n",
    "         bins = 35, stacked = True, color = colors, label = names, alpha=0.6)\n",
    "plt.legend()\n",
    "plt.xlabel('resting_ecg')"
   ]
  },
  {
   "cell_type": "markdown",
   "metadata": {
    "id": "Vm4kUDHlzr9p"
   },
   "source": [
    "#### People from category 1 is more likely to have heart disease"
   ]
  },
  {
   "cell_type": "markdown",
   "metadata": {
    "id": "cEqt5cCazr9q"
   },
   "source": [
    "#### 5. exercise_induce_angina"
   ]
  },
  {
   "cell_type": "code",
   "execution_count": 81,
   "metadata": {
    "id": "HvyTYCNAzr9q"
   },
   "outputs": [
    {
     "data": {
      "text/plain": [
       "Text(0.5, 0, 'exercise_induce_angina')"
      ]
     },
     "execution_count": 81,
     "metadata": {},
     "output_type": "execute_result"
    },
    {
     "data": {
      "image/png": "[encoded data removed]",
      "text/plain": [
       "<Figure size 432x288 with 1 Axes>"
      ]
     },
     "metadata": {
      "needs_background": "light"
     },
     "output_type": "display_data"
    }
   ],
   "source": [
    "colors = ['green', 'red']\n",
    "names = ['Have Heart Disease = NO', 'Have Heart Disease = YES']\n",
    "plt.hist([list(df[df[\"target\"] == 0]['exercise_induce_angina']), list(df[df[\"target\"] == 1]['exercise_induce_angina'])], \n",
    "         bins = 35, stacked = True, color = colors, label = names, alpha=0.6)\n",
    "plt.legend()\n",
    "plt.xlabel('exercise_induce_angina')"
   ]
  },
  {
   "cell_type": "markdown",
   "metadata": {
    "id": "_DUPzh5Fzr9q"
   },
   "source": [
    "#### People from category 0 is more likely to have heart disease than category 1."
   ]
  },
  {
   "cell_type": "markdown",
   "metadata": {
    "id": "f4ySwKsSzr9r"
   },
   "source": [
    "#### 6. ST_slope"
   ]
  },
  {
   "cell_type": "code",
   "execution_count": 82,
   "metadata": {
    "id": "CJqF4Uhhzr9r"
   },
   "outputs": [
    {
     "data": {
      "text/plain": [
       "Text(0.5, 0, 'ST_slope')"
      ]
     },
     "execution_count": 82,
     "metadata": {},
     "output_type": "execute_result"
    },
    {
     "data": {
      "image/png": "[encoded data removed]",
      "text/plain": [
       "<Figure size 432x288 with 1 Axes>"
      ]
     },
     "metadata": {
      "needs_background": "light"
     },
     "output_type": "display_data"
    }
   ],
   "source": [
    "colors = ['green', 'red']\n",
    "names = ['Have Heart Disease = NO', 'Have Heart Disease = YES']\n",
    "plt.hist([list(df[df[\"target\"] == 0]['ST_slope']), list(df[df[\"target\"] == 1]['ST_slope'])], \n",
    "         bins = 35, stacked = True, color = colors, label = names, alpha=0.6)\n",
    "plt.legend()\n",
    "plt.xlabel('ST_slope')"
   ]
  },
  {
   "cell_type": "markdown",
   "metadata": {
    "id": "mtIfTjSYzr9r"
   },
   "source": [
    "#### People from category 2 is more likely to have heart disease than category 1 and 0."
   ]
  },
  {
   "cell_type": "markdown",
   "metadata": {
    "id": "GsWk0Qt3zr9r"
   },
   "source": [
    "#### 7. blood_disorder"
   ]
  },
  {
   "cell_type": "code",
   "execution_count": 83,
   "metadata": {
    "id": "8V9r9Dhozr9s"
   },
   "outputs": [
    {
     "data": {
      "text/plain": [
       "Text(0.5, 0, 'blood_disorder')"
      ]
     },
     "execution_count": 83,
     "metadata": {},
     "output_type": "execute_result"
    },
    {
     "data": {
      "image/png": "[encoded data removed]",
      "text/plain": [
       "<Figure size 432x288 with 1 Axes>"
      ]
     },
     "metadata": {
      "needs_background": "light"
     },
     "output_type": "display_data"
    }
   ],
   "source": [
    "colors = ['green', 'red']\n",
    "names = ['Have Heart Disease = NO', 'Have Heart Disease = YES']\n",
    "plt.hist([list(df[df[\"target\"] == 0]['blood_disorder']), list(df[df[\"target\"] == 1]['blood_disorder'])], \n",
    "         bins = 35, stacked = True, color = colors, label = names, alpha=0.6)\n",
    "plt.legend()\n",
    "plt.xlabel('blood_disorder')"
   ]
  },
  {
   "cell_type": "markdown",
   "metadata": {
    "id": "e57E4_Q8zr9s"
   },
   "source": [
    "#### People from category 2 is more likely to have heart disease than others."
   ]
  },
  {
   "cell_type": "markdown",
   "metadata": {
    "id": "0mvCd187zr9v"
   },
   "source": [
    "## 4. Check the disease results within each numerical attribute"
   ]
  },
  {
   "cell_type": "markdown",
   "metadata": {
    "id": "DT9yEUIOzr9v"
   },
   "source": [
    "#### 1. age"
   ]
  },
  {
   "cell_type": "code",
   "execution_count": 84,
   "metadata": {
    "id": "kITk5aKgzr9w"
   },
   "outputs": [
    {
     "data": {
      "text/plain": [
       "Text(0.5, 0, 'age')"
      ]
     },
     "execution_count": 84,
     "metadata": {},
     "output_type": "execute_result"
    },
    {
     "data": {
      "image/png": "[encoded data removed]",
      "text/plain": [
       "<Figure size 432x288 with 1 Axes>"
      ]
     },
     "metadata": {
      "needs_background": "light"
     },
     "output_type": "display_data"
    }
   ],
   "source": [
    "colors = ['green', 'red']\n",
    "names = ['Have Heart Disease = NO', 'Have Heart Disease = YES']\n",
    "plt.hist([list(df[df[\"target\"] == 0]['age']), list(df[df[\"target\"] == 1]['age'])], \n",
    "         bins = 35, stacked = True, color = colors, label = names, alpha=0.6)\n",
    "plt.legend()\n",
    "plt.xlabel('age')"
   ]
  },
  {
   "cell_type": "markdown",
   "metadata": {
    "id": "aWaGoNuuzr9x"
   },
   "source": [
    "#### 2. resting_blood_pressure"
   ]
  },
  {
   "cell_type": "code",
   "execution_count": 85,
   "metadata": {
    "id": "1EpdETxIzr9x"
   },
   "outputs": [
    {
     "data": {
      "text/plain": [
       "Text(0.5, 0, 'resting_blood_pressure')"
      ]
     },
     "execution_count": 85,
     "metadata": {},
     "output_type": "execute_result"
    },
    {
     "data": {
      "image/png": "[encoded data removed]",
      "text/plain": [
       "<Figure size 432x288 with 1 Axes>"
      ]
     },
     "metadata": {
      "needs_background": "light"
     },
     "output_type": "display_data"
    }
   ],
   "source": [
    "colors = ['green', 'red']\n",
    "names = ['Have Heart Disease = NO', 'Have Heart Disease = YES']\n",
    "plt.hist([list(df[df[\"target\"] == 0]['resting_blood_pressure']), list(df[df[\"target\"] == 1]['resting_blood_pressure'])], \n",
    "         bins = 35, stacked = True, color = colors, label = names, alpha=0.6)\n",
    "plt.legend()\n",
    "plt.xlabel('resting_blood_pressure')"
   ]
  },
  {
   "cell_type": "markdown",
   "metadata": {
    "id": "lpokTc6nzr9y"
   },
   "source": [
    "#### Look like the resting blood pressure ranges from 110 to 150 have high possibility of having heart disease."
   ]
  },
  {
   "cell_type": "markdown",
   "metadata": {
    "id": "vq3dm9uizr9y"
   },
   "source": [
    "#### 3. cholesterol"
   ]
  },
  {
   "cell_type": "code",
   "execution_count": 86,
   "metadata": {
    "id": "HsGkoM0kzr9y"
   },
   "outputs": [
    {
     "data": {
      "text/plain": [
       "Text(0.5, 0, 'cholesterol')"
      ]
     },
     "execution_count": 86,
     "metadata": {},
     "output_type": "execute_result"
    },
    {
     "data": {
      "image/png": "[encoded data removed]",
      "text/plain": [
       "<Figure size 432x288 with 1 Axes>"
      ]
     },
     "metadata": {
      "needs_background": "light"
     },
     "output_type": "display_data"
    }
   ],
   "source": [
    "colors = ['green', 'red']\n",
    "names = ['Have Heart Disease = NO', 'Have Heart Disease = YES']\n",
    "plt.hist([list(df[df[\"target\"] == 0]['cholesterol']), list(df[df[\"target\"] == 1]['cholesterol'])], \n",
    "         bins = 35, stacked = True, color = colors, label = names, alpha=0.6)\n",
    "plt.legend()\n",
    "plt.xlabel('cholesterol')"
   ]
  },
  {
   "cell_type": "markdown",
   "metadata": {
    "id": "YM9bJT-6zr9z"
   },
   "source": [
    "#### 4. max_heart_rate"
   ]
  },
  {
   "cell_type": "code",
   "execution_count": 87,
   "metadata": {
    "id": "iS0IQh0Dzr9z"
   },
   "outputs": [
    {
     "data": {
      "text/plain": [
       "Text(0.5, 0, 'max_heart_rate')"
      ]
     },
     "execution_count": 87,
     "metadata": {},
     "output_type": "execute_result"
    },
    {
     "data": {
      "image/png": "[encoded data removed]",
      "text/plain": [
       "<Figure size 432x288 with 1 Axes>"
      ]
     },
     "metadata": {
      "needs_background": "light"
     },
     "output_type": "display_data"
    }
   ],
   "source": [
    "colors = ['green', 'red']\n",
    "names = ['Have Heart Disease = NO', 'Have Heart Disease = YES']\n",
    "plt.hist([list(df[df[\"target\"] == 0]['max_heart_rate']), list(df[df[\"target\"] == 1]['max_heart_rate'])], \n",
    "         bins = 35, stacked = True, color = colors, label = names, alpha=0.6)\n",
    "plt.legend()\n",
    "plt.xlabel('max_heart_rate')"
   ]
  },
  {
   "cell_type": "markdown",
   "metadata": {
    "id": "p3nTDNi7zr90"
   },
   "source": [
    "#### Max heart rate higher than 140 is more likely to have heart disease."
   ]
  },
  {
   "cell_type": "markdown",
   "metadata": {
    "id": "zvAYMpw1zr91"
   },
   "source": [
    "#### 5. ST_depression"
   ]
  },
  {
   "cell_type": "code",
   "execution_count": 88,
   "metadata": {
    "id": "iDIY2KGHzr91"
   },
   "outputs": [
    {
     "data": {
      "text/plain": [
       "Text(0.5, 0, 'ST_depression')"
      ]
     },
     "execution_count": 88,
     "metadata": {},
     "output_type": "execute_result"
    },
    {
     "data": {
      "image/png": "[encoded data removed]",
      "text/plain": [
       "<Figure size 432x288 with 1 Axes>"
      ]
     },
     "metadata": {
      "needs_background": "light"
     },
     "output_type": "display_data"
    }
   ],
   "source": [
    "colors = ['green', 'red']\n",
    "names = ['Have Heart Disease = NO', 'Have Heart Disease = YES']\n",
    "plt.hist([list(df[df[\"target\"] == 0]['ST_depression']), list(df[df[\"target\"] == 1]['ST_depression'])], \n",
    "         bins = 35, stacked = True, color = colors, label = names, alpha=0.6)\n",
    "plt.legend()\n",
    "plt.xlabel('ST_depression')"
   ]
  },
  {
   "cell_type": "markdown",
   "metadata": {
    "id": "aZz_1LCSzr91"
   },
   "source": [
    "#### The lower ST despression people has the higher rate to have heart disease."
   ]
  },
  {
   "cell_type": "markdown",
   "metadata": {
    "id": "21gTWlFczr91"
   },
   "source": [
    "#### 6. num_major_vessels"
   ]
  },
  {
   "cell_type": "code",
   "execution_count": 89,
   "metadata": {
    "id": "Ncwj196Czr91"
   },
   "outputs": [
    {
     "data": {
      "text/plain": [
       "Text(0.5, 0, 'num_major_vessels')"
      ]
     },
     "execution_count": 89,
     "metadata": {},
     "output_type": "execute_result"
    },
    {
     "data": {
      "image/png": "[encoded data removed]",
      "text/plain": [
       "<Figure size 432x288 with 1 Axes>"
      ]
     },
     "metadata": {
      "needs_background": "light"
     },
     "output_type": "display_data"
    }
   ],
   "source": [
    "colors = ['green', 'red']\n",
    "names = ['Have Heart Disease = NO', 'Have Heart Disease = YES']\n",
    "plt.hist([list(df[df[\"target\"] == 0]['num_major_vessels']), list(df[df[\"target\"] == 1]['num_major_vessels'])], \n",
    "         bins = 35, stacked = True, color = colors, label = names, alpha=0.6)\n",
    "plt.legend()\n",
    "plt.xlabel('num_major_vessels')"
   ]
  },
  {
   "cell_type": "markdown",
   "metadata": {
    "id": "DSaLEbq6zr91"
   },
   "source": [
    "#### Zero major vessel has the highest heart disease rate. The rate drops dramatically once you have more than zero vessels."
   ]
  },
  {
   "cell_type": "markdown",
   "metadata": {
    "id": "GA9Qs-OHzr92"
   },
   "source": [
    "## 5. Correlation Matrix"
   ]
  },
  {
   "cell_type": "code",
   "execution_count": 90,
   "metadata": {
    "id": "nhiCyFQOzr92"
   },
   "outputs": [
    {
     "data": {
      "text/plain": [
       "(14.5, -0.5)"
      ]
     },
     "execution_count": 90,
     "metadata": {},
     "output_type": "execute_result"
    },
    {
     "data": {
      "image/png": "[encoded data removed]",
      "text/plain": [
       "<Figure size 1080x1080 with 2 Axes>"
      ]
     },
     "metadata": {
      "needs_background": "light"
     },
     "output_type": "display_data"
    }
   ],
   "source": [
    "corrMatrix = df.corr()\n",
    "fig, ax = plt.subplots(figsize=(15, 15))\n",
    "sns.heatmap(corrMatrix, \n",
    "            annot = True, \n",
    "            cmap=\"Blues\")\n",
    "bottom, top = ax.get_ylim()\n",
    "ax.set_ylim(bottom + 0.5, top - 0.5)"
   ]
  },
  {
   "cell_type": "markdown",
   "metadata": {
    "id": "7_TQtoNAzr92"
   },
   "source": [
    "#### We can see that cholesterol and fasting blood sugar have the lowest correlation with target."
   ]
  },
  {
   "cell_type": "markdown",
   "metadata": {
    "id": "KdSO-hOmzr92"
   },
   "source": [
    "# Data processing"
   ]
  },
  {
   "cell_type": "markdown",
   "metadata": {
    "id": "M-KLtSNRzr93"
   },
   "source": [
    "## 1. Change attributes data types"
   ]
  },
  {
   "cell_type": "code",
   "execution_count": 91,
   "metadata": {
    "id": "Yl2wbsm0zr93"
   },
   "outputs": [
    {
     "data": {
      "text/plain": [
       "age                         int64\n",
       "sex                        object\n",
       "chest_pain_type            object\n",
       "resting_blood_pressure      int64\n",
       "cholesterol                 int64\n",
       "fasting_blood_sugar        object\n",
       "resting_ecg                object\n",
       "max_heart_rate              int64\n",
       "exercise_induce_angina     object\n",
       "ST_depression             float64\n",
       "ST_slope                   object\n",
       "num_major_vessels           int64\n",
       "blood_disorder             object\n",
       "target                      int64\n",
       "dtype: object"
      ]
     },
     "execution_count": 91,
     "metadata": {},
     "output_type": "execute_result"
    }
   ],
   "source": [
    "df['sex'] = df['sex'].astype('object')\n",
    "df['chest_pain_type'] = df['chest_pain_type'].astype('object')\n",
    "df['fasting_blood_sugar'] = df['fasting_blood_sugar'].astype('object')\n",
    "df['resting_ecg'] = df['resting_ecg'].astype('object')\n",
    "df['exercise_induce_angina'] = df['exercise_induce_angina'].astype('object')\n",
    "df['ST_slope'] = df['ST_slope'].astype('object')\n",
    "df['blood_disorder'] = df['blood_disorder'].astype('object')\n",
    "df.dtypes"
   ]
  },
  {
   "cell_type": "markdown",
   "metadata": {
    "id": "ErJQab1-zr93"
   },
   "source": [
    "## 2. Convert categorical variable into dummy/indicator variables."
   ]
  },
  {
   "cell_type": "code",
   "execution_count": 92,
   "metadata": {
    "id": "AIiWtT4Mzr93"
   },
   "outputs": [
    {
     "data": {
      "text/html": [
       "<div>\n",
       "<style scoped>\n",
       "    .dataframe tbody tr th:only-of-type {\n",
       "        vertical-align: middle;\n",
       "    }\n",
       "\n",
       "    .dataframe tbody tr th {\n",
       "        vertical-align: top;\n",
       "    }\n",
       "\n",
       "    .dataframe thead th {\n",
       "        text-align: right;\n",
       "    }\n",
       "</style>\n",
       "<table border=\"1\" class=\"dataframe\">\n",
       "  <thead>\n",
       "    <tr style=\"text-align: right;\">\n",
       "      <th></th>\n",
       "      <th>age</th>\n",
       "      <th>resting_blood_pressure</th>\n",
       "      <th>cholesterol</th>\n",
       "      <th>max_heart_rate</th>\n",
       "      <th>ST_depression</th>\n",
       "      <th>num_major_vessels</th>\n",
       "      <th>sex_0</th>\n",
       "      <th>sex_1</th>\n",
       "      <th>chest_pain_type_0</th>\n",
       "      <th>chest_pain_type_1</th>\n",
       "      <th>...</th>\n",
       "      <th>exercise_induce_angina_0</th>\n",
       "      <th>exercise_induce_angina_1</th>\n",
       "      <th>ST_slope_0</th>\n",
       "      <th>ST_slope_1</th>\n",
       "      <th>ST_slope_2</th>\n",
       "      <th>blood_disorder_0</th>\n",
       "      <th>blood_disorder_1</th>\n",
       "      <th>blood_disorder_2</th>\n",
       "      <th>blood_disorder_3</th>\n",
       "      <th>target</th>\n",
       "    </tr>\n",
       "  </thead>\n",
       "  <tbody>\n",
       "    <tr>\n",
       "      <th>0</th>\n",
       "      <td>63</td>\n",
       "      <td>145</td>\n",
       "      <td>233</td>\n",
       "      <td>150</td>\n",
       "      <td>2.3</td>\n",
       "      <td>0</td>\n",
       "      <td>0</td>\n",
       "      <td>1</td>\n",
       "      <td>0</td>\n",
       "      <td>0</td>\n",
       "      <td>...</td>\n",
       "      <td>1</td>\n",
       "      <td>0</td>\n",
       "      <td>1</td>\n",
       "      <td>0</td>\n",
       "      <td>0</td>\n",
       "      <td>0</td>\n",
       "      <td>1</td>\n",
       "      <td>0</td>\n",
       "      <td>0</td>\n",
       "      <td>1</td>\n",
       "    </tr>\n",
       "    <tr>\n",
       "      <th>1</th>\n",
       "      <td>37</td>\n",
       "      <td>130</td>\n",
       "      <td>250</td>\n",
       "      <td>187</td>\n",
       "      <td>3.5</td>\n",
       "      <td>0</td>\n",
       "      <td>0</td>\n",
       "      <td>1</td>\n",
       "      <td>0</td>\n",
       "      <td>0</td>\n",
       "      <td>...</td>\n",
       "      <td>1</td>\n",
       "      <td>0</td>\n",
       "      <td>1</td>\n",
       "      <td>0</td>\n",
       "      <td>0</td>\n",
       "      <td>0</td>\n",
       "      <td>0</td>\n",
       "      <td>1</td>\n",
       "      <td>0</td>\n",
       "      <td>1</td>\n",
       "    </tr>\n",
       "    <tr>\n",
       "      <th>2</th>\n",
       "      <td>41</td>\n",
       "      <td>130</td>\n",
       "      <td>204</td>\n",
       "      <td>172</td>\n",
       "      <td>1.4</td>\n",
       "      <td>0</td>\n",
       "      <td>1</td>\n",
       "      <td>0</td>\n",
       "      <td>0</td>\n",
       "      <td>1</td>\n",
       "      <td>...</td>\n",
       "      <td>1</td>\n",
       "      <td>0</td>\n",
       "      <td>0</td>\n",
       "      <td>0</td>\n",
       "      <td>1</td>\n",
       "      <td>0</td>\n",
       "      <td>0</td>\n",
       "      <td>1</td>\n",
       "      <td>0</td>\n",
       "      <td>1</td>\n",
       "    </tr>\n",
       "    <tr>\n",
       "      <th>3</th>\n",
       "      <td>56</td>\n",
       "      <td>120</td>\n",
       "      <td>236</td>\n",
       "      <td>178</td>\n",
       "      <td>0.8</td>\n",
       "      <td>0</td>\n",
       "      <td>0</td>\n",
       "      <td>1</td>\n",
       "      <td>0</td>\n",
       "      <td>1</td>\n",
       "      <td>...</td>\n",
       "      <td>1</td>\n",
       "      <td>0</td>\n",
       "      <td>0</td>\n",
       "      <td>0</td>\n",
       "      <td>1</td>\n",
       "      <td>0</td>\n",
       "      <td>0</td>\n",
       "      <td>1</td>\n",
       "      <td>0</td>\n",
       "      <td>1</td>\n",
       "    </tr>\n",
       "    <tr>\n",
       "      <th>4</th>\n",
       "      <td>57</td>\n",
       "      <td>120</td>\n",
       "      <td>354</td>\n",
       "      <td>163</td>\n",
       "      <td>0.6</td>\n",
       "      <td>0</td>\n",
       "      <td>1</td>\n",
       "      <td>0</td>\n",
       "      <td>1</td>\n",
       "      <td>0</td>\n",
       "      <td>...</td>\n",
       "      <td>0</td>\n",
       "      <td>1</td>\n",
       "      <td>0</td>\n",
       "      <td>0</td>\n",
       "      <td>1</td>\n",
       "      <td>0</td>\n",
       "      <td>0</td>\n",
       "      <td>1</td>\n",
       "      <td>0</td>\n",
       "      <td>1</td>\n",
       "    </tr>\n",
       "  </tbody>\n",
       "</table>\n",
       "<p>5 rows × 27 columns</p>\n",
       "</div>"
      ],
      "text/plain": [
       "   age  resting_blood_pressure  cholesterol  max_heart_rate  ST_depression  \\\n",
       "0   63                     145          233             150            2.3   \n",
       "1   37                     130          250             187            3.5   \n",
       "2   41                     130          204             172            1.4   \n",
       "3   56                     120          236             178            0.8   \n",
       "4   57                     120          354             163            0.6   \n",
       "\n",
       "   num_major_vessels  sex_0  sex_1  chest_pain_type_0  chest_pain_type_1  ...  \\\n",
       "0                  0      0      1                  0                  0  ...   \n",
       "1                  0      0      1                  0                  0  ...   \n",
       "2                  0      1      0                  0                  1  ...   \n",
       "3                  0      0      1                  0                  1  ...   \n",
       "4                  0      1      0                  1                  0  ...   \n",
       "\n",
       "   exercise_induce_angina_0  exercise_induce_angina_1  ST_slope_0  ST_slope_1  \\\n",
       "0                         1                         0           1           0   \n",
       "1                         1                         0           1           0   \n",
       "2                         1                         0           0           0   \n",
       "3                         1                         0           0           0   \n",
       "4                         0                         1           0           0   \n",
       "\n",
       "   ST_slope_2  blood_disorder_0  blood_disorder_1  blood_disorder_2  \\\n",
       "0           0                 0                 1                 0   \n",
       "1           0                 0                 0                 1   \n",
       "2           1                 0                 0                 1   \n",
       "3           1                 0                 0                 1   \n",
       "4           1                 0                 0                 1   \n",
       "\n",
       "   blood_disorder_3  target  \n",
       "0                 0       1  \n",
       "1                 0       1  \n",
       "2                 0       1  \n",
       "3                 0       1  \n",
       "4                 0       1  \n",
       "\n",
       "[5 rows x 27 columns]"
      ]
     },
     "execution_count": 92,
     "metadata": {},
     "output_type": "execute_result"
    }
   ],
   "source": [
    "df = pd.get_dummies(df)\n",
    "new_cols = [col for col in df.columns if col != 'target'] + ['target']\n",
    "df = df[new_cols]\n",
    "df.head()"
   ]
  },
  {
   "cell_type": "markdown",
   "metadata": {
    "id": "G0uiE8rMzr93"
   },
   "source": [
    "## 3. Data Normalization"
   ]
  },
  {
   "cell_type": "code",
   "execution_count": 93,
   "metadata": {
    "id": "HYWYBaeMzr93"
   },
   "outputs": [
    {
     "data": {
      "text/html": [
       "<div>\n",
       "<style scoped>\n",
       "    .dataframe tbody tr th:only-of-type {\n",
       "        vertical-align: middle;\n",
       "    }\n",
       "\n",
       "    .dataframe tbody tr th {\n",
       "        vertical-align: top;\n",
       "    }\n",
       "\n",
       "    .dataframe thead th {\n",
       "        text-align: right;\n",
       "    }\n",
       "</style>\n",
       "<table border=\"1\" class=\"dataframe\">\n",
       "  <thead>\n",
       "    <tr style=\"text-align: right;\">\n",
       "      <th></th>\n",
       "      <th>age</th>\n",
       "      <th>resting_blood_pressure</th>\n",
       "      <th>cholesterol</th>\n",
       "      <th>max_heart_rate</th>\n",
       "      <th>ST_depression</th>\n",
       "      <th>num_major_vessels</th>\n",
       "      <th>sex_0</th>\n",
       "      <th>sex_1</th>\n",
       "      <th>chest_pain_type_0</th>\n",
       "      <th>chest_pain_type_1</th>\n",
       "      <th>...</th>\n",
       "      <th>exercise_induce_angina_0</th>\n",
       "      <th>exercise_induce_angina_1</th>\n",
       "      <th>ST_slope_0</th>\n",
       "      <th>ST_slope_1</th>\n",
       "      <th>ST_slope_2</th>\n",
       "      <th>blood_disorder_0</th>\n",
       "      <th>blood_disorder_1</th>\n",
       "      <th>blood_disorder_2</th>\n",
       "      <th>blood_disorder_3</th>\n",
       "      <th>target</th>\n",
       "    </tr>\n",
       "  </thead>\n",
       "  <tbody>\n",
       "    <tr>\n",
       "      <th>0</th>\n",
       "      <td>0.708333</td>\n",
       "      <td>0.481132</td>\n",
       "      <td>0.244292</td>\n",
       "      <td>0.603053</td>\n",
       "      <td>0.370968</td>\n",
       "      <td>0</td>\n",
       "      <td>0</td>\n",
       "      <td>1</td>\n",
       "      <td>0</td>\n",
       "      <td>0</td>\n",
       "      <td>...</td>\n",
       "      <td>1</td>\n",
       "      <td>0</td>\n",
       "      <td>1</td>\n",
       "      <td>0</td>\n",
       "      <td>0</td>\n",
       "      <td>0</td>\n",
       "      <td>1</td>\n",
       "      <td>0</td>\n",
       "      <td>0</td>\n",
       "      <td>1</td>\n",
       "    </tr>\n",
       "    <tr>\n",
       "      <th>1</th>\n",
       "      <td>0.166667</td>\n",
       "      <td>0.339623</td>\n",
       "      <td>0.283105</td>\n",
       "      <td>0.885496</td>\n",
       "      <td>0.564516</td>\n",
       "      <td>0</td>\n",
       "      <td>0</td>\n",
       "      <td>1</td>\n",
       "      <td>0</td>\n",
       "      <td>0</td>\n",
       "      <td>...</td>\n",
       "      <td>1</td>\n",
       "      <td>0</td>\n",
       "      <td>1</td>\n",
       "      <td>0</td>\n",
       "      <td>0</td>\n",
       "      <td>0</td>\n",
       "      <td>0</td>\n",
       "      <td>1</td>\n",
       "      <td>0</td>\n",
       "      <td>1</td>\n",
       "    </tr>\n",
       "    <tr>\n",
       "      <th>2</th>\n",
       "      <td>0.250000</td>\n",
       "      <td>0.339623</td>\n",
       "      <td>0.178082</td>\n",
       "      <td>0.770992</td>\n",
       "      <td>0.225806</td>\n",
       "      <td>0</td>\n",
       "      <td>1</td>\n",
       "      <td>0</td>\n",
       "      <td>0</td>\n",
       "      <td>1</td>\n",
       "      <td>...</td>\n",
       "      <td>1</td>\n",
       "      <td>0</td>\n",
       "      <td>0</td>\n",
       "      <td>0</td>\n",
       "      <td>1</td>\n",
       "      <td>0</td>\n",
       "      <td>0</td>\n",
       "      <td>1</td>\n",
       "      <td>0</td>\n",
       "      <td>1</td>\n",
       "    </tr>\n",
       "    <tr>\n",
       "      <th>3</th>\n",
       "      <td>0.562500</td>\n",
       "      <td>0.245283</td>\n",
       "      <td>0.251142</td>\n",
       "      <td>0.816794</td>\n",
       "      <td>0.129032</td>\n",
       "      <td>0</td>\n",
       "      <td>0</td>\n",
       "      <td>1</td>\n",
       "      <td>0</td>\n",
       "      <td>1</td>\n",
       "      <td>...</td>\n",
       "      <td>1</td>\n",
       "      <td>0</td>\n",
       "      <td>0</td>\n",
       "      <td>0</td>\n",
       "      <td>1</td>\n",
       "      <td>0</td>\n",
       "      <td>0</td>\n",
       "      <td>1</td>\n",
       "      <td>0</td>\n",
       "      <td>1</td>\n",
       "    </tr>\n",
       "    <tr>\n",
       "      <th>4</th>\n",
       "      <td>0.583333</td>\n",
       "      <td>0.245283</td>\n",
       "      <td>0.520548</td>\n",
       "      <td>0.702290</td>\n",
       "      <td>0.096774</td>\n",
       "      <td>0</td>\n",
       "      <td>1</td>\n",
       "      <td>0</td>\n",
       "      <td>1</td>\n",
       "      <td>0</td>\n",
       "      <td>...</td>\n",
       "      <td>0</td>\n",
       "      <td>1</td>\n",
       "      <td>0</td>\n",
       "      <td>0</td>\n",
       "      <td>1</td>\n",
       "      <td>0</td>\n",
       "      <td>0</td>\n",
       "      <td>1</td>\n",
       "      <td>0</td>\n",
       "      <td>1</td>\n",
       "    </tr>\n",
       "  </tbody>\n",
       "</table>\n",
       "<p>5 rows × 27 columns</p>\n",
       "</div>"
      ],
      "text/plain": [
       "        age  resting_blood_pressure  cholesterol  max_heart_rate  \\\n",
       "0  0.708333                0.481132     0.244292        0.603053   \n",
       "1  0.166667                0.339623     0.283105        0.885496   \n",
       "2  0.250000                0.339623     0.178082        0.770992   \n",
       "3  0.562500                0.245283     0.251142        0.816794   \n",
       "4  0.583333                0.245283     0.520548        0.702290   \n",
       "\n",
       "   ST_depression  num_major_vessels  sex_0  sex_1  chest_pain_type_0  \\\n",
       "0       0.370968                  0      0      1                  0   \n",
       "1       0.564516                  0      0      1                  0   \n",
       "2       0.225806                  0      1      0                  0   \n",
       "3       0.129032                  0      0      1                  0   \n",
       "4       0.096774                  0      1      0                  1   \n",
       "\n",
       "   chest_pain_type_1  ...  exercise_induce_angina_0  exercise_induce_angina_1  \\\n",
       "0                  0  ...                         1                         0   \n",
       "1                  0  ...                         1                         0   \n",
       "2                  1  ...                         1                         0   \n",
       "3                  1  ...                         1                         0   \n",
       "4                  0  ...                         0                         1   \n",
       "\n",
       "   ST_slope_0  ST_slope_1  ST_slope_2  blood_disorder_0  blood_disorder_1  \\\n",
       "0           1           0           0                 0                 1   \n",
       "1           1           0           0                 0                 0   \n",
       "2           0           0           1                 0                 0   \n",
       "3           0           0           1                 0                 0   \n",
       "4           0           0           1                 0                 0   \n",
       "\n",
       "   blood_disorder_2  blood_disorder_3  target  \n",
       "0                 0                 0       1  \n",
       "1                 1                 0       1  \n",
       "2                 1                 0       1  \n",
       "3                 1                 0       1  \n",
       "4                 1                 0       1  \n",
       "\n",
       "[5 rows x 27 columns]"
      ]
     },
     "execution_count": 93,
     "metadata": {},
     "output_type": "execute_result"
    }
   ],
   "source": [
    "cols_to_norm = ['age', 'resting_blood_pressure', 'cholesterol', 'max_heart_rate', 'ST_depression']\n",
    "df_norm = df.copy()\n",
    "df_norm[cols_to_norm] = df_norm[cols_to_norm].apply(lambda x: (x - x.min()) / (x.max() - x.min()))\n",
    "df_norm.head()"
   ]
  },
  {
   "cell_type": "markdown",
   "metadata": {
    "id": "2Ms-fbkbzr94"
   },
   "source": [
    "## 4. Data Standardization"
   ]
  },
  {
   "cell_type": "code",
   "execution_count": 94,
   "metadata": {
    "id": "-rK4bZiuzr94"
   },
   "outputs": [
    {
     "data": {
      "text/html": [
       "<div>\n",
       "<style scoped>\n",
       "    .dataframe tbody tr th:only-of-type {\n",
       "        vertical-align: middle;\n",
       "    }\n",
       "\n",
       "    .dataframe tbody tr th {\n",
       "        vertical-align: top;\n",
       "    }\n",
       "\n",
       "    .dataframe thead th {\n",
       "        text-align: right;\n",
       "    }\n",
       "</style>\n",
       "<table border=\"1\" class=\"dataframe\">\n",
       "  <thead>\n",
       "    <tr style=\"text-align: right;\">\n",
       "      <th></th>\n",
       "      <th>age</th>\n",
       "      <th>resting_blood_pressure</th>\n",
       "      <th>cholesterol</th>\n",
       "      <th>max_heart_rate</th>\n",
       "      <th>ST_depression</th>\n",
       "      <th>num_major_vessels</th>\n",
       "      <th>sex_0</th>\n",
       "      <th>sex_1</th>\n",
       "      <th>chest_pain_type_0</th>\n",
       "      <th>chest_pain_type_1</th>\n",
       "      <th>...</th>\n",
       "      <th>exercise_induce_angina_0</th>\n",
       "      <th>exercise_induce_angina_1</th>\n",
       "      <th>ST_slope_0</th>\n",
       "      <th>ST_slope_1</th>\n",
       "      <th>ST_slope_2</th>\n",
       "      <th>blood_disorder_0</th>\n",
       "      <th>blood_disorder_1</th>\n",
       "      <th>blood_disorder_2</th>\n",
       "      <th>blood_disorder_3</th>\n",
       "      <th>target</th>\n",
       "    </tr>\n",
       "  </thead>\n",
       "  <tbody>\n",
       "    <tr>\n",
       "      <th>0</th>\n",
       "      <td>0.952197</td>\n",
       "      <td>0.763956</td>\n",
       "      <td>-0.256334</td>\n",
       "      <td>0.015443</td>\n",
       "      <td>1.087338</td>\n",
       "      <td>0</td>\n",
       "      <td>0</td>\n",
       "      <td>1</td>\n",
       "      <td>0</td>\n",
       "      <td>0</td>\n",
       "      <td>...</td>\n",
       "      <td>1</td>\n",
       "      <td>0</td>\n",
       "      <td>1</td>\n",
       "      <td>0</td>\n",
       "      <td>0</td>\n",
       "      <td>0</td>\n",
       "      <td>1</td>\n",
       "      <td>0</td>\n",
       "      <td>0</td>\n",
       "      <td>1</td>\n",
       "    </tr>\n",
       "    <tr>\n",
       "      <th>1</th>\n",
       "      <td>-1.915313</td>\n",
       "      <td>-0.092738</td>\n",
       "      <td>0.072199</td>\n",
       "      <td>1.633471</td>\n",
       "      <td>2.122573</td>\n",
       "      <td>0</td>\n",
       "      <td>0</td>\n",
       "      <td>1</td>\n",
       "      <td>0</td>\n",
       "      <td>0</td>\n",
       "      <td>...</td>\n",
       "      <td>1</td>\n",
       "      <td>0</td>\n",
       "      <td>1</td>\n",
       "      <td>0</td>\n",
       "      <td>0</td>\n",
       "      <td>0</td>\n",
       "      <td>0</td>\n",
       "      <td>1</td>\n",
       "      <td>0</td>\n",
       "      <td>1</td>\n",
       "    </tr>\n",
       "    <tr>\n",
       "      <th>2</th>\n",
       "      <td>-1.474158</td>\n",
       "      <td>-0.092738</td>\n",
       "      <td>-0.816773</td>\n",
       "      <td>0.977514</td>\n",
       "      <td>0.310912</td>\n",
       "      <td>0</td>\n",
       "      <td>1</td>\n",
       "      <td>0</td>\n",
       "      <td>0</td>\n",
       "      <td>1</td>\n",
       "      <td>...</td>\n",
       "      <td>1</td>\n",
       "      <td>0</td>\n",
       "      <td>0</td>\n",
       "      <td>0</td>\n",
       "      <td>1</td>\n",
       "      <td>0</td>\n",
       "      <td>0</td>\n",
       "      <td>1</td>\n",
       "      <td>0</td>\n",
       "      <td>1</td>\n",
       "    </tr>\n",
       "    <tr>\n",
       "      <th>3</th>\n",
       "      <td>0.180175</td>\n",
       "      <td>-0.663867</td>\n",
       "      <td>-0.198357</td>\n",
       "      <td>1.239897</td>\n",
       "      <td>-0.206705</td>\n",
       "      <td>0</td>\n",
       "      <td>0</td>\n",
       "      <td>1</td>\n",
       "      <td>0</td>\n",
       "      <td>1</td>\n",
       "      <td>...</td>\n",
       "      <td>1</td>\n",
       "      <td>0</td>\n",
       "      <td>0</td>\n",
       "      <td>0</td>\n",
       "      <td>1</td>\n",
       "      <td>0</td>\n",
       "      <td>0</td>\n",
       "      <td>1</td>\n",
       "      <td>0</td>\n",
       "      <td>1</td>\n",
       "    </tr>\n",
       "    <tr>\n",
       "      <th>4</th>\n",
       "      <td>0.290464</td>\n",
       "      <td>-0.663867</td>\n",
       "      <td>2.082050</td>\n",
       "      <td>0.583939</td>\n",
       "      <td>-0.379244</td>\n",
       "      <td>0</td>\n",
       "      <td>1</td>\n",
       "      <td>0</td>\n",
       "      <td>1</td>\n",
       "      <td>0</td>\n",
       "      <td>...</td>\n",
       "      <td>0</td>\n",
       "      <td>1</td>\n",
       "      <td>0</td>\n",
       "      <td>0</td>\n",
       "      <td>1</td>\n",
       "      <td>0</td>\n",
       "      <td>0</td>\n",
       "      <td>1</td>\n",
       "      <td>0</td>\n",
       "      <td>1</td>\n",
       "    </tr>\n",
       "  </tbody>\n",
       "</table>\n",
       "<p>5 rows × 27 columns</p>\n",
       "</div>"
      ],
      "text/plain": [
       "        age  resting_blood_pressure  cholesterol  max_heart_rate  \\\n",
       "0  0.952197                0.763956    -0.256334        0.015443   \n",
       "1 -1.915313               -0.092738     0.072199        1.633471   \n",
       "2 -1.474158               -0.092738    -0.816773        0.977514   \n",
       "3  0.180175               -0.663867    -0.198357        1.239897   \n",
       "4  0.290464               -0.663867     2.082050        0.583939   \n",
       "\n",
       "   ST_depression  num_major_vessels  sex_0  sex_1  chest_pain_type_0  \\\n",
       "0       1.087338                  0      0      1                  0   \n",
       "1       2.122573                  0      0      1                  0   \n",
       "2       0.310912                  0      1      0                  0   \n",
       "3      -0.206705                  0      0      1                  0   \n",
       "4      -0.379244                  0      1      0                  1   \n",
       "\n",
       "   chest_pain_type_1  ...  exercise_induce_angina_0  exercise_induce_angina_1  \\\n",
       "0                  0  ...                         1                         0   \n",
       "1                  0  ...                         1                         0   \n",
       "2                  1  ...                         1                         0   \n",
       "3                  1  ...                         1                         0   \n",
       "4                  0  ...                         0                         1   \n",
       "\n",
       "   ST_slope_0  ST_slope_1  ST_slope_2  blood_disorder_0  blood_disorder_1  \\\n",
       "0           1           0           0                 0                 1   \n",
       "1           1           0           0                 0                 0   \n",
       "2           0           0           1                 0                 0   \n",
       "3           0           0           1                 0                 0   \n",
       "4           0           0           1                 0                 0   \n",
       "\n",
       "   blood_disorder_2  blood_disorder_3  target  \n",
       "0                 0                 0       1  \n",
       "1                 1                 0       1  \n",
       "2                 1                 0       1  \n",
       "3                 1                 0       1  \n",
       "4                 1                 0       1  \n",
       "\n",
       "[5 rows x 27 columns]"
      ]
     },
     "execution_count": 94,
     "metadata": {},
     "output_type": "execute_result"
    }
   ],
   "source": [
    "cols_to_stand = ['age', 'resting_blood_pressure', 'cholesterol', 'max_heart_rate', 'ST_depression']\n",
    "df_stand = df.copy()\n",
    "df_stand[cols_to_stand] = StandardScaler().fit_transform(df_stand[cols_to_stand])\n",
    "df_stand.head()"
   ]
  },
  {
   "cell_type": "markdown",
   "metadata": {
    "id": "nNXO9iJBzr94"
   },
   "source": [
    "## 5. Split Dataset"
   ]
  },
  {
   "cell_type": "code",
   "execution_count": 95,
   "metadata": {
    "id": "9XmOW97qzr94"
   },
   "outputs": [],
   "source": [
    "from sklearn.model_selection import train_test_split"
   ]
  },
  {
   "cell_type": "code",
   "execution_count": 96,
   "metadata": {
    "id": "r_J8cU9zzr94"
   },
   "outputs": [],
   "source": [
    "train, test = train_test_split(df, test_size = 0.2, random_state = 0)\n",
    "train_norm, test_norm = train_test_split(df_norm, test_size = 0.2, random_state = 0)\n",
    "train_stand, test_stand = train_test_split(df_stand, test_size = 0.2, random_state = 0)\n",
    "\n",
    "train_y = train.target\n",
    "train_x = train.drop(['target'], axis = 1)\n",
    "test_y = test.target\n",
    "test_x = test.drop(['target'], axis = 1)\n",
    "\n",
    "train_norm_y = train_norm.target\n",
    "train_norm_x = train_norm.drop(['target'], axis = 1)\n",
    "test_norm_y = test_norm.target\n",
    "test_norm_x = test_norm.drop(['target'], axis = 1)\n",
    "\n",
    "train_stand_y = train_stand.target\n",
    "train_stand_x = train_stand.drop(['target'], axis = 1)\n",
    "test_stand_y = test_stand.target\n",
    "test_stand_x = test_stand.drop(['target'], axis = 1)"
   ]
  },
  {
   "cell_type": "markdown",
   "metadata": {
    "id": "5KEg08VFzr95"
   },
   "source": [
    "# Algorithms Implementation"
   ]
  },
  {
   "cell_type": "code",
   "execution_count": 98,
   "metadata": {
    "id": "y0fITT4Bzr95"
   },
   "outputs": [],
   "source": [
    "from sklearn import svm\n",
    "from sklearn.linear_model import LogisticRegression\n",
    "from sklearn.neighbors import KNeighborsClassifier\n",
    "from sklearn.tree import DecisionTreeClassifier\n",
    "from sklearn.naive_bayes import GaussianNB\n",
    "from sklearn import metrics\n",
    "from sklearn.metrics import confusion_matrix\n",
    "from sklearn.metrics import classification_report\n",
    "from sklearn.metrics import roc_auc_score\n",
    "from sklearn.metrics import roc_curve\n",
    "from sklearn.metrics import cohen_kappa_score\n",
    "import matplotlib.pyplot as plt\n",
    "import numpy as np"
   ]
  },
  {
   "cell_type": "markdown",
   "metadata": {
    "id": "vNbsP-4Fzr95"
   },
   "source": [
    "## 1. Logistic Regression - Sklearn"
   ]
  },
  {
   "cell_type": "markdown",
   "metadata": {
    "id": "pBxWM5ZBzr95"
   },
   "source": [
    "#### Original Dataset"
   ]
  },
  {
   "cell_type": "code",
   "execution_count": 99,
   "metadata": {
    "id": "oXm3OeYCzr95"
   },
   "outputs": [
    {
     "name": "stdout",
     "output_type": "stream",
     "text": [
      "Accuracy for Original Dataset: 83.60655737704919\n"
     ]
    }
   ],
   "source": [
    "logreg_origin = LogisticRegression(solver='lbfgs', max_iter=10000)\n",
    "logreg_origin.fit(train_x, train_y)\n",
    "logreg_prediction_origin = logreg_origin.predict(test_x)\n",
    "print('Accuracy for Original Dataset:', metrics.accuracy_score(logreg_prediction_origin,test_y) * 100)"
   ]
  },
  {
   "cell_type": "markdown",
   "metadata": {
    "id": "vxgHDhkDzr95"
   },
   "source": [
    "#### Normalization Dataset"
   ]
  },
  {
   "cell_type": "code",
   "execution_count": 100,
   "metadata": {
    "id": "uriA8qX1zr95"
   },
   "outputs": [
    {
     "name": "stdout",
     "output_type": "stream",
     "text": [
      "Accuracy for Normalization Dataset: 85.24590163934425\n"
     ]
    }
   ],
   "source": [
    "logreg_norm = LogisticRegression(solver='lbfgs', max_iter=10000)\n",
    "logreg_norm.fit(train_norm_x, train_norm_y)\n",
    "logreg_prediction_norm = logreg_norm.predict(test_norm_x)\n",
    "print('Accuracy for Normalization Dataset:', metrics.accuracy_score(logreg_prediction_norm,test_norm_y) * 100)"
   ]
  },
  {
   "cell_type": "markdown",
   "metadata": {
    "id": "tRIBLxjGzr96"
   },
   "source": [
    "#### Standardization Dataset"
   ]
  },
  {
   "cell_type": "code",
   "execution_count": 101,
   "metadata": {
    "id": "y6eYewVWzr96"
   },
   "outputs": [
    {
     "name": "stdout",
     "output_type": "stream",
     "text": [
      "Accuracy for Standardization Dataset: 83.60655737704919\n"
     ]
    }
   ],
   "source": [
    "logreg_stand = LogisticRegression(solver='lbfgs', max_iter=10000)\n",
    "logreg_stand.fit(train_stand_x, train_stand_y)\n",
    "logreg_prediction_stand = logreg_stand.predict(test_stand_x)\n",
    "print('Accuracy for Standardization Dataset:', metrics.accuracy_score(logreg_prediction_stand,test_stand_y) * 100)"
   ]
  },
  {
   "cell_type": "markdown",
   "metadata": {
    "id": "yNB_XSabzr96"
   },
   "source": [
    "### Model Evaluation"
   ]
  },
  {
   "cell_type": "markdown",
   "metadata": {
    "id": "N0hadb_qzr96"
   },
   "source": [
    "#### 1. AUC value for Normalization dataset"
   ]
  },
  {
   "cell_type": "code",
   "execution_count": 102,
   "metadata": {
    "id": "7Wd9WLTfzr96"
   },
   "outputs": [
    {
     "data": {
      "image/png": "[encoded data removed]",
      "text/plain": [
       "<Figure size 432x288 with 1 Axes>"
      ]
     },
     "metadata": {
      "needs_background": "light"
     },
     "output_type": "display_data"
    }
   ],
   "source": [
    "logreg_prediction_prob = logreg_norm.predict_proba(test_norm_x)\n",
    "\n",
    "lr_fpr,lr_tpr,lr_th = roc_curve(test_norm_y,logreg_prediction_prob[:,1])\n",
    "plt.plot([0,1],[0,1],'r--')\n",
    "plt.plot(lr_fpr, lr_tpr)\n",
    "plt.grid(True)\n",
    "plt.show()"
   ]
  },
  {
   "cell_type": "code",
   "execution_count": 103,
   "metadata": {
    "id": "RgZRx6INzr96"
   },
   "outputs": [
    {
     "name": "stdout",
     "output_type": "stream",
     "text": [
      "AUC value for LogisticRegression model is:  0.9052287581699346\n"
     ]
    }
   ],
   "source": [
    "logreg_auc_score = roc_auc_score(test_norm_y, logreg_prediction_prob[:,1])\n",
    "print('AUC value for LogisticRegression model is: ', logreg_auc_score)"
   ]
  },
  {
   "cell_type": "markdown",
   "metadata": {
    "id": "4ZOW0Zokzr97"
   },
   "source": [
    "#### 2. Confusion Matrix"
   ]
  },
  {
   "cell_type": "code",
   "execution_count": 104,
   "metadata": {
    "id": "6XFzNm0Nzr97"
   },
   "outputs": [
    {
     "data": {
      "image/png": "[encoded data removed]",
      "text/plain": [
       "<Figure size 432x288 with 2 Axes>"
      ]
     },
     "metadata": {
      "needs_background": "light"
     },
     "output_type": "display_data"
    }
   ],
   "source": [
    "logreg_cm= confusion_matrix(test_norm_y, logreg_prediction_norm)\n",
    "logreg_cmd=pd.DataFrame(data=logreg_cm , index=['Acutal_0','Actual_1'],columns=['Predicted_0','Predicted_1'])\n",
    "sns.heatmap(logreg_cmd, annot=True)\n",
    "plt.show()"
   ]
  },
  {
   "cell_type": "markdown",
   "metadata": {
    "id": "8eoalSNzzr97"
   },
   "source": [
    "#### 3. Classification Report"
   ]
  },
  {
   "cell_type": "code",
   "execution_count": 105,
   "metadata": {
    "id": "NEppjv5Lzr97"
   },
   "outputs": [
    {
     "name": "stdout",
     "output_type": "stream",
     "text": [
      "              precision    recall  f1-score   support\n",
      "\n",
      "           0       0.82      0.85      0.84        27\n",
      "           1       0.88      0.85      0.87        34\n",
      "\n",
      "    accuracy                           0.85        61\n",
      "   macro avg       0.85      0.85      0.85        61\n",
      "weighted avg       0.85      0.85      0.85        61\n",
      "\n"
     ]
    }
   ],
   "source": [
    "logreg_report = classification_report(test_norm_y, logreg_prediction_norm)\n",
    "print(logreg_report)"
   ]
  },
  {
   "cell_type": "markdown",
   "metadata": {
    "id": "5N5NBlq_zr97"
   },
   "source": [
    "#### 4. Cohen's Kappa Statistic"
   ]
  },
  {
   "cell_type": "code",
   "execution_count": 106,
   "metadata": {
    "id": "pl6QV8yIzr97"
   },
   "outputs": [
    {
     "name": "stdout",
     "output_type": "stream",
     "text": [
      "cohen_kappa value is:  0.7021161150298426\n"
     ]
    }
   ],
   "source": [
    "logreg_cohen_kappa = cohen_kappa_score(test_norm_y, logreg_prediction_norm)\n",
    "print('cohen_kappa value is: ', logreg_cohen_kappa)"
   ]
  },
  {
   "cell_type": "markdown",
   "metadata": {
    "id": "JPzdz5Vezr98"
   },
   "source": [
    "## 2. K-Nestest Neighbors"
   ]
  },
  {
   "cell_type": "markdown",
   "metadata": {
    "id": "UT_uGpRXzr98"
   },
   "source": [
    "### Find value K by finding the maximum testing score"
   ]
  },
  {
   "cell_type": "code",
   "execution_count": 107,
   "metadata": {
    "id": "uEE-8rwdzr98"
   },
   "outputs": [],
   "source": [
    "test_scores = []\n",
    "train_scores = []\n",
    "\n",
    "test_norm_scores = []\n",
    "train_norm_scores = []\n",
    "\n",
    "test_stand_scores = []\n",
    "train_stand_scores = []\n",
    "\n",
    "for i in range(1,15):\n",
    "\n",
    "    knn = KNeighborsClassifier(i)\n",
    "    knn.fit(train_x, train_y)\n",
    "    \n",
    "    train_scores.append(knn.score(train_x, train_y))\n",
    "    test_scores.append(knn.score(test_x, test_y))\n",
    "\n",
    "for i in range(1,15):\n",
    "\n",
    "    knn_norm = KNeighborsClassifier(i)\n",
    "    knn_norm.fit(train_norm_x, train_norm_y)\n",
    "    \n",
    "    train_norm_scores.append(knn_norm.score(train_norm_x, train_norm_y))\n",
    "    test_norm_scores.append(knn_norm.score(test_norm_x, test_norm_y))\n",
    "    \n",
    "for i in range(1,15):\n",
    "\n",
    "    knn_stand = KNeighborsClassifier(i)\n",
    "    knn_stand.fit(train_stand_x, train_stand_y)\n",
    "    \n",
    "    train_stand_scores.append(knn_stand.score(train_stand_x, train_stand_y))\n",
    "    test_stand_scores.append(knn_stand.score(test_stand_x, test_stand_y))"
   ]
  },
  {
   "cell_type": "code",
   "execution_count": 108,
   "metadata": {
    "id": "QfcBWZBDzr98"
   },
   "outputs": [
    {
     "name": "stderr",
     "output_type": "stream",
     "text": [
      "c:\\users\\yxz\\appdata\\local\\programs\\python\\python38\\lib\\site-packages\\seaborn\\_decorators.py:36: FutureWarning: Pass the following variables as keyword args: x, y. From version 0.12, the only valid positional argument will be `data`, and passing other arguments without an explicit keyword will result in an error or misinterpretation.\n",
      "  warnings.warn(\n",
      "c:\\users\\yxz\\appdata\\local\\programs\\python\\python38\\lib\\site-packages\\seaborn\\_decorators.py:36: FutureWarning: Pass the following variables as keyword args: x, y. From version 0.12, the only valid positional argument will be `data`, and passing other arguments without an explicit keyword will result in an error or misinterpretation.\n",
      "  warnings.warn(\n"
     ]
    },
    {
     "data": {
      "image/png": "[encoded data removed]",
      "text/plain": [
       "<Figure size 864x360 with 1 Axes>"
      ]
     },
     "metadata": {
      "needs_background": "light"
     },
     "output_type": "display_data"
    }
   ],
   "source": [
    "plt.figure(figsize=(12,5))\n",
    "p = sns.lineplot(range(1,15),train_scores,marker='x',label='Train Score for Original dataset')\n",
    "p = sns.lineplot(range(1,15),test_scores,marker='o',label='Test Score for Original dataset')"
   ]
  },
  {
   "cell_type": "code",
   "execution_count": 109,
   "metadata": {
    "id": "efIy0C7hzr99"
   },
   "outputs": [
    {
     "name": "stderr",
     "output_type": "stream",
     "text": [
      "c:\\users\\yxz\\appdata\\local\\programs\\python\\python38\\lib\\site-packages\\seaborn\\_decorators.py:36: FutureWarning: Pass the following variables as keyword args: x, y. From version 0.12, the only valid positional argument will be `data`, and passing other arguments without an explicit keyword will result in an error or misinterpretation.\n",
      "  warnings.warn(\n",
      "c:\\users\\yxz\\appdata\\local\\programs\\python\\python38\\lib\\site-packages\\seaborn\\_decorators.py:36: FutureWarning: Pass the following variables as keyword args: x, y. From version 0.12, the only valid positional argument will be `data`, and passing other arguments without an explicit keyword will result in an error or misinterpretation.\n",
      "  warnings.warn(\n"
     ]
    },
    {
     "data": {
      "image/png": "[encoded data removed]",
      "text/plain": [
       "<Figure size 864x360 with 1 Axes>"
      ]
     },
     "metadata": {
      "needs_background": "light"
     },
     "output_type": "display_data"
    }
   ],
   "source": [
    "plt.figure(figsize=(12,5))\n",
    "p = sns.lineplot(range(1,15),train_norm_scores,marker='*',label='Train Score for normalize dataset')\n",
    "p = sns.lineplot(range(1,15),test_norm_scores,marker='o',label='Test Score for normalize dataset')"
   ]
  },
  {
   "cell_type": "code",
   "execution_count": 110,
   "metadata": {
    "id": "YyUZUT5fzr99"
   },
   "outputs": [
    {
     "name": "stderr",
     "output_type": "stream",
     "text": [
      "c:\\users\\yxz\\appdata\\local\\programs\\python\\python38\\lib\\site-packages\\seaborn\\_decorators.py:36: FutureWarning: Pass the following variables as keyword args: x, y. From version 0.12, the only valid positional argument will be `data`, and passing other arguments without an explicit keyword will result in an error or misinterpretation.\n",
      "  warnings.warn(\n",
      "c:\\users\\yxz\\appdata\\local\\programs\\python\\python38\\lib\\site-packages\\seaborn\\_decorators.py:36: FutureWarning: Pass the following variables as keyword args: x, y. From version 0.12, the only valid positional argument will be `data`, and passing other arguments without an explicit keyword will result in an error or misinterpretation.\n",
      "  warnings.warn(\n"
     ]
    },
    {
     "data": {
      "image/png": "[encoded data removed]",
      "text/plain": [
       "<Figure size 864x360 with 1 Axes>"
      ]
     },
     "metadata": {
      "needs_background": "light"
     },
     "output_type": "display_data"
    }
   ],
   "source": [
    "plt.figure(figsize=(12,5))\n",
    "p = sns.lineplot(range(1,15),train_stand_scores,marker='x',label='Train Score for standardize dataset')\n",
    "p = sns.lineplot(range(1,15),test_stand_scores,marker='o',label='Test Score for standardize dataset')"
   ]
  },
  {
   "cell_type": "markdown",
   "metadata": {
    "id": "G_tuNCuUzr99"
   },
   "source": [
    "### Build KNN model on three dataset"
   ]
  },
  {
   "cell_type": "markdown",
   "metadata": {
    "id": "HFSM6mDszr99"
   },
   "source": [
    "#### Original Dataset"
   ]
  },
  {
   "cell_type": "code",
   "execution_count": 111,
   "metadata": {
    "id": "fc7ibJQfzr9-"
   },
   "outputs": [
    {
     "name": "stdout",
     "output_type": "stream",
     "text": [
      "Accuracy for Original Dataset: 72.1311475409836\n"
     ]
    }
   ],
   "source": [
    "knn = KNeighborsClassifier(13)\n",
    "knn.fit(train_x, train_y)\n",
    "print('Accuracy for Original Dataset:', knn.score(test_x, test_y) * 100)\n"
   ]
  },
  {
   "cell_type": "markdown",
   "metadata": {
    "id": "2z-0xNELzr9-"
   },
   "source": [
    "#### Normalization Dataset"
   ]
  },
  {
   "cell_type": "code",
   "execution_count": 112,
   "metadata": {
    "id": "01ohDGuGzr9-"
   },
   "outputs": [
    {
     "name": "stdout",
     "output_type": "stream",
     "text": [
      "Accuracy for Normalization Dataset: 86.88524590163934\n"
     ]
    }
   ],
   "source": [
    "knn_norm = KNeighborsClassifier(5)\n",
    "knn_norm.fit(train_norm_x, train_norm_y)\n",
    "print('Accuracy for Normalization Dataset:', knn_norm.score(test_norm_x, test_norm_y) * 100)\n"
   ]
  },
  {
   "cell_type": "markdown",
   "metadata": {
    "id": "6sKlrDxezr9-"
   },
   "source": [
    "#### Standardization Dataset"
   ]
  },
  {
   "cell_type": "code",
   "execution_count": 113,
   "metadata": {
    "id": "JsASmlLmzr9_"
   },
   "outputs": [
    {
     "name": "stdout",
     "output_type": "stream",
     "text": [
      "Accuracy for Standardization Dataset: 85.24590163934425\n"
     ]
    }
   ],
   "source": [
    "knn_stand = KNeighborsClassifier(10)\n",
    "knn_stand.fit(train_stand_x, train_stand_y)\n",
    "print('Accuracy for Standardization Dataset:', knn_stand.score(test_stand_x, test_stand_y) * 100)"
   ]
  },
  {
   "cell_type": "markdown",
   "metadata": {
    "id": "FryPtMB_zr9_"
   },
   "source": [
    "### Model Evaluation"
   ]
  },
  {
   "cell_type": "markdown",
   "metadata": {
    "id": "jKKCOsWuzr9_"
   },
   "source": [
    "#### 1. AUC value for Normalization dataset"
   ]
  },
  {
   "cell_type": "code",
   "execution_count": 114,
   "metadata": {
    "id": "3tdgIruPzr9_"
   },
   "outputs": [
    {
     "data": {
      "image/png": "[encoded data removed]",
      "text/plain": [
       "<Figure size 432x288 with 1 Axes>"
      ]
     },
     "metadata": {
      "needs_background": "light"
     },
     "output_type": "display_data"
    }
   ],
   "source": [
    "knn_prediction_prob = knn_norm.predict_proba(test_norm_x)\n",
    "\n",
    "knn_fpr,knn_tpr,knn_th = roc_curve(test_norm_y,knn_prediction_prob[:,1])\n",
    "plt.plot([0,1],[0,1],'r--')\n",
    "plt.plot(knn_fpr, knn_tpr)\n",
    "plt.grid(True)\n",
    "plt.show()"
   ]
  },
  {
   "cell_type": "code",
   "execution_count": 115,
   "metadata": {
    "id": "TKWZUDTlzr-A"
   },
   "outputs": [
    {
     "name": "stdout",
     "output_type": "stream",
     "text": [
      "AUC value for KNN model is:  0.8867102396514162\n"
     ]
    }
   ],
   "source": [
    "knn_auc_score = roc_auc_score(test_norm_y, knn_prediction_prob[:,1])\n",
    "print('AUC value for KNN model is: ', knn_auc_score)"
   ]
  },
  {
   "cell_type": "markdown",
   "metadata": {
    "id": "pbWcH8ZKzr-A"
   },
   "source": [
    "#### 2. Confusion Matrix"
   ]
  },
  {
   "cell_type": "code",
   "execution_count": 116,
   "metadata": {
    "id": "8Ksdx0HWzr-A"
   },
   "outputs": [
    {
     "data": {
      "text/plain": [
       "Text(0.5, 1.0, 'Confusion Matrix of K-nearest Neighbor: Normalize dataset')"
      ]
     },
     "execution_count": 116,
     "metadata": {},
     "output_type": "execute_result"
    },
    {
     "data": {
      "image/png": "[encoded data removed]",
      "text/plain": [
       "<Figure size 432x288 with 2 Axes>"
      ]
     },
     "metadata": {
      "needs_background": "light"
     },
     "output_type": "display_data"
    }
   ],
   "source": [
    "knn_norm_y_pred = knn_norm.predict(test_norm_x)\n",
    "confusion_matrix(test_norm_y,knn_norm_y_pred)\n",
    "sns.heatmap(confusion_matrix(test_norm_y,knn_norm_y_pred), annot=True).set_title('Confusion Matrix of K-nearest Neighbor: Normalize dataset')"
   ]
  },
  {
   "cell_type": "markdown",
   "metadata": {
    "id": "EvBlLIsAzr-A"
   },
   "source": [
    "#### 3. Classification Report"
   ]
  },
  {
   "cell_type": "code",
   "execution_count": 117,
   "metadata": {
    "id": "NJ7tWNJGzr-A"
   },
   "outputs": [
    {
     "name": "stdout",
     "output_type": "stream",
     "text": [
      "K-nearest Neighbor: Normalizae dataset\n",
      "              precision    recall  f1-score   support\n",
      "\n",
      "           0       0.88      0.81      0.85        27\n",
      "           1       0.86      0.91      0.89        34\n",
      "\n",
      "    accuracy                           0.87        61\n",
      "   macro avg       0.87      0.86      0.87        61\n",
      "weighted avg       0.87      0.87      0.87        61\n",
      "\n"
     ]
    }
   ],
   "source": [
    "print('K-nearest Neighbor: Normalizae dataset')\n",
    "print(classification_report(test_norm_y,knn_norm_y_pred))"
   ]
  },
  {
   "cell_type": "markdown",
   "metadata": {
    "id": "mcaFV_YGzr-B"
   },
   "source": [
    "#### 4. Cohen's Kappa Statistic"
   ]
  },
  {
   "cell_type": "code",
   "execution_count": 118,
   "metadata": {
    "id": "0of16Ct_zr-B"
   },
   "outputs": [
    {
     "name": "stdout",
     "output_type": "stream",
     "text": [
      "cohen_kappa value is:  0.7321624588364435\n"
     ]
    }
   ],
   "source": [
    "knn_cohen_kappa = cohen_kappa_score(test_norm_y, knn_norm_y_pred)\n",
    "print('cohen_kappa value is: ', knn_cohen_kappa)"
   ]
  },
  {
   "cell_type": "markdown",
   "metadata": {
    "id": "cq9YIvKkzr-B"
   },
   "source": [
    "## 3. Decision Tree"
   ]
  },
  {
   "cell_type": "markdown",
   "metadata": {
    "id": "lwKYVU8Mzr-B"
   },
   "source": [
    "#### Original Dataset"
   ]
  },
  {
   "cell_type": "code",
   "execution_count": 119,
   "metadata": {
    "id": "0d9GAmwKzr-B"
   },
   "outputs": [
    {
     "name": "stdout",
     "output_type": "stream",
     "text": [
      "Accuracy for Original Dataset: 78.68852459016394\n"
     ]
    }
   ],
   "source": [
    "dt_origin = DecisionTreeClassifier()\n",
    "dt_origin.fit(train_x, train_y)\n",
    "dt_prediction_origin = dt_origin.predict(test_x)\n",
    "print('Accuracy for Original Dataset:', metrics.accuracy_score(dt_prediction_origin,test_y) * 100)"
   ]
  },
  {
   "cell_type": "markdown",
   "metadata": {
    "id": "GsiKRrLnzr-B"
   },
   "source": [
    "#### Normalization Dataset"
   ]
  },
  {
   "cell_type": "code",
   "execution_count": 120,
   "metadata": {
    "id": "8WfxR11xzr-C"
   },
   "outputs": [
    {
     "name": "stdout",
     "output_type": "stream",
     "text": [
      "Accuracy for Original Dataset: 80.32786885245902\n"
     ]
    }
   ],
   "source": [
    "dt_norm = DecisionTreeClassifier()\n",
    "dt_norm.fit(train_norm_x, train_norm_y)\n",
    "dt_prediction_norm = dt_norm.predict(test_norm_x)\n",
    "print('Accuracy for Original Dataset:', metrics.accuracy_score(dt_prediction_norm,test_norm_y) * 100)"
   ]
  },
  {
   "cell_type": "markdown",
   "metadata": {
    "id": "NxFXmrolzr-C"
   },
   "source": [
    "#### Standardization Dataset"
   ]
  },
  {
   "cell_type": "code",
   "execution_count": 121,
   "metadata": {
    "id": "BUI4cA6ozr-C"
   },
   "outputs": [
    {
     "name": "stdout",
     "output_type": "stream",
     "text": [
      "Accuracy for Original Dataset: 78.68852459016394\n"
     ]
    }
   ],
   "source": [
    "dt_stand = DecisionTreeClassifier()\n",
    "dt_stand.fit(train_stand_x, train_stand_y)\n",
    "dt_prediction_stand = dt_stand.predict(test_stand_x)\n",
    "print('Accuracy for Original Dataset:', metrics.accuracy_score(dt_prediction_stand,test_stand_y) * 100)"
   ]
  },
  {
   "cell_type": "markdown",
   "metadata": {
    "id": "AmXFgzwpzr-C"
   },
   "source": [
    "### Model Evaluation"
   ]
  },
  {
   "cell_type": "markdown",
   "metadata": {
    "id": "aQMU-DNAzr-C"
   },
   "source": [
    "#### 1. AUC value for Normalization dataset"
   ]
  },
  {
   "cell_type": "code",
   "execution_count": 122,
   "metadata": {
    "id": "xXX66ogDzr-C"
   },
   "outputs": [
    {
     "data": {
      "image/png": "[encoded data removed]",
      "text/plain": [
       "<Figure size 432x288 with 1 Axes>"
      ]
     },
     "metadata": {
      "needs_background": "light"
     },
     "output_type": "display_data"
    }
   ],
   "source": [
    "dt_prediction_prob = dt_norm.predict_proba(test_norm_x)\n",
    "\n",
    "dt_fpr,dt_tpr,dt_th = roc_curve(test_norm_y,dt_prediction_prob[:,1])\n",
    "plt.plot([0,1],[0,1],'r--')\n",
    "plt.plot(dt_fpr,dt_tpr)\n",
    "plt.grid(True)\n",
    "plt.show()"
   ]
  },
  {
   "cell_type": "code",
   "execution_count": 123,
   "metadata": {
    "id": "AwkMWJa5zr-D"
   },
   "outputs": [
    {
     "name": "stdout",
     "output_type": "stream",
     "text": [
      "AUC value for Decision Tree model is:  0.8006535947712419\n"
     ]
    }
   ],
   "source": [
    "dt_auc_score = roc_auc_score(test_norm_y, dt_prediction_prob[:,1])\n",
    "print('AUC value for Decision Tree model is: ', dt_auc_score)"
   ]
  },
  {
   "cell_type": "markdown",
   "metadata": {
    "id": "nvvURNBBzr-D"
   },
   "source": [
    "#### 2. Confusion Matrix"
   ]
  },
  {
   "cell_type": "code",
   "execution_count": 124,
   "metadata": {
    "id": "HvyKliNczr-D"
   },
   "outputs": [
    {
     "data": {
      "text/plain": [
       "Text(0.5, 1.0, 'Confusion Matrix of K-nearest Neighbor: Normalize dataset')"
      ]
     },
     "execution_count": 124,
     "metadata": {},
     "output_type": "execute_result"
    },
    {
     "data": {
      "image/png": "[encoded data removed]",
      "text/plain": [
       "<Figure size 432x288 with 2 Axes>"
      ]
     },
     "metadata": {
      "needs_background": "light"
     },
     "output_type": "display_data"
    }
   ],
   "source": [
    "dt_norm_y_pred = dt_norm.predict(test_norm_x)\n",
    "confusion_matrix(test_norm_y,dt_norm_y_pred)\n",
    "sns.heatmap(confusion_matrix(test_norm_y,dt_norm_y_pred), annot=True).set_title('Confusion Matrix of K-nearest Neighbor: Normalize dataset')"
   ]
  },
  {
   "cell_type": "markdown",
   "metadata": {
    "id": "iSG3mbH2zr-D"
   },
   "source": [
    "#### 3. Classification Report"
   ]
  },
  {
   "cell_type": "code",
   "execution_count": 125,
   "metadata": {
    "id": "n1NDfPJHzr-D"
   },
   "outputs": [
    {
     "name": "stdout",
     "output_type": "stream",
     "text": [
      "Decision Tree: Normalizae dataset\n",
      "              precision    recall  f1-score   support\n",
      "\n",
      "           0       0.78      0.78      0.78        27\n",
      "           1       0.82      0.82      0.82        34\n",
      "\n",
      "    accuracy                           0.80        61\n",
      "   macro avg       0.80      0.80      0.80        61\n",
      "weighted avg       0.80      0.80      0.80        61\n",
      "\n"
     ]
    }
   ],
   "source": [
    "print('Decision Tree: Normalizae dataset')\n",
    "print(classification_report(test_norm_y,dt_norm_y_pred))"
   ]
  },
  {
   "cell_type": "markdown",
   "metadata": {
    "id": "aECk3_qFzr-D"
   },
   "source": [
    "#### 4. Cohen's Kappa Statistic"
   ]
  },
  {
   "cell_type": "code",
   "execution_count": 126,
   "metadata": {
    "id": "XqiYLIP6zr-D"
   },
   "outputs": [
    {
     "name": "stdout",
     "output_type": "stream",
     "text": [
      "cohen_kappa value is:  0.6013071895424836\n"
     ]
    }
   ],
   "source": [
    "dt_cohen_kappa = cohen_kappa_score(test_norm_y, dt_norm_y_pred)\n",
    "print('cohen_kappa value is: ', dt_cohen_kappa)"
   ]
  },
  {
   "cell_type": "markdown",
   "metadata": {
    "id": "-4-UJfA2zr-E"
   },
   "source": [
    "#### 5. Exploring the feature importance of the decision tree model"
   ]
  },
  {
   "cell_type": "code",
   "execution_count": 127,
   "metadata": {
    "id": "7K_KBOOHzr-E"
   },
   "outputs": [
    {
     "name": "stdout",
     "output_type": "stream",
     "text": [
      "                     feature     score\n",
      "24          blood_disorder_2  0.293278\n",
      "8          chest_pain_type_0  0.133062\n",
      "4              ST_depression  0.111154\n",
      "2                cholesterol  0.103840\n",
      "5          num_major_vessels  0.087550\n",
      "0                        age  0.081106\n",
      "3             max_heart_rate  0.074287\n",
      "1     resting_blood_pressure  0.051997\n",
      "6                      sex_0  0.024192\n",
      "20                ST_slope_1  0.016643\n",
      "17  exercise_induce_angina_0  0.012482\n",
      "7                      sex_1  0.005548\n",
      "23          blood_disorder_1  0.004863\n",
      "22          blood_disorder_0  0.000000\n",
      "21                ST_slope_2  0.000000\n",
      "19                ST_slope_0  0.000000\n",
      "18  exercise_induce_angina_1  0.000000\n",
      "13     fasting_blood_sugar_1  0.000000\n",
      "16             resting_ecg_2  0.000000\n",
      "15             resting_ecg_1  0.000000\n",
      "14             resting_ecg_0  0.000000\n",
      "12     fasting_blood_sugar_0  0.000000\n",
      "11         chest_pain_type_3  0.000000\n",
      "10         chest_pain_type_2  0.000000\n",
      "9          chest_pain_type_1  0.000000\n",
      "25          blood_disorder_3  0.000000\n"
     ]
    }
   ],
   "source": [
    "importance = dt_norm.feature_importances_\n",
    "im=pd.DataFrame(importance)\n",
    "col=pd.DataFrame(list(train_norm_x.columns))\n",
    "rank=pd.DataFrame(list(zip(train_norm_x.columns, importance)),\n",
    "               columns =['feature', 'score'])\n",
    "print(rank.sort_values('score',ascending=False))"
   ]
  },
  {
   "cell_type": "markdown",
   "metadata": {
    "id": "y6V39Vmkzr-E"
   },
   "source": [
    "## 4. Support Vector Machine (SVM) - Sklearn"
   ]
  },
  {
   "cell_type": "markdown",
   "metadata": {
    "id": "oPDsEYPezr-E"
   },
   "source": [
    "#### Original Dataset"
   ]
  },
  {
   "cell_type": "code",
   "execution_count": 128,
   "metadata": {
    "id": "xXhWfIkzzr-E"
   },
   "outputs": [
    {
     "name": "stdout",
     "output_type": "stream",
     "text": [
      "Accuracy for Original Dataset: 68.85245901639344\n"
     ]
    }
   ],
   "source": [
    "svm_origin = svm.SVC(random_state = 1, probability=True)\n",
    "svm_origin.fit(train_x, train_y)\n",
    "svm_prediction_origin = svm_origin.predict(test_x)\n",
    "print('Accuracy for Original Dataset:', metrics.accuracy_score(svm_prediction_origin,test_y) * 100)"
   ]
  },
  {
   "cell_type": "markdown",
   "metadata": {
    "id": "hFHnszW6zr-E"
   },
   "source": [
    "#### Normalization Dataset"
   ]
  },
  {
   "cell_type": "code",
   "execution_count": 129,
   "metadata": {
    "id": "SXyUbxigzr-E"
   },
   "outputs": [
    {
     "name": "stdout",
     "output_type": "stream",
     "text": [
      "Accuracy for Normalization Dataset: 88.52459016393442\n"
     ]
    }
   ],
   "source": [
    "svm_norm = svm.SVC(random_state = 1, probability=True)\n",
    "svm_norm.fit(train_norm_x, train_norm_y)\n",
    "svm_prediction_norm = svm_norm.predict(test_norm_x)\n",
    "print('Accuracy for Normalization Dataset:', metrics.accuracy_score(svm_prediction_norm,test_norm_y) * 100)"
   ]
  },
  {
   "cell_type": "markdown",
   "metadata": {
    "id": "lAL64pw4zr-F"
   },
   "source": [
    "#### Standardization Dataset"
   ]
  },
  {
   "cell_type": "code",
   "execution_count": 130,
   "metadata": {
    "id": "YbBf_bVHzr-F"
   },
   "outputs": [
    {
     "name": "stdout",
     "output_type": "stream",
     "text": [
      "Accuracy for Standardization Dataset: 86.88524590163934\n"
     ]
    }
   ],
   "source": [
    "svm_stand = svm.SVC(random_state = 1, probability=True)\n",
    "svm_stand.fit(train_stand_x, train_stand_y)\n",
    "svm_prediction_stand = svm_stand.predict(test_stand_x)\n",
    "print('Accuracy for Standardization Dataset:', metrics.accuracy_score(svm_prediction_stand,test_stand_y) * 100)"
   ]
  },
  {
   "cell_type": "markdown",
   "metadata": {
    "id": "cWIwkUDLzr-F"
   },
   "source": [
    "### Model Evaluation"
   ]
  },
  {
   "cell_type": "markdown",
   "metadata": {
    "id": "DIxlF-Jszr-F"
   },
   "source": [
    "#### 1. AUC value for Normalization dataset"
   ]
  },
  {
   "cell_type": "code",
   "execution_count": 131,
   "metadata": {
    "id": "xq5a28XSzr-F"
   },
   "outputs": [
    {
     "data": {
      "image/png": "[encoded data removed]",
      "text/plain": [
       "<Figure size 432x288 with 1 Axes>"
      ]
     },
     "metadata": {
      "needs_background": "light"
     },
     "output_type": "display_data"
    }
   ],
   "source": [
    "svm_prediction_prob = svm_norm.predict_proba(test_norm_x)\n",
    "\n",
    "svm_fpr,svm_tpr,svm_th = roc_curve(test_norm_y,svm_prediction_prob[:,1])\n",
    "plt.plot([0,1],[0,1],'r--')\n",
    "plt.plot(svm_fpr, svm_tpr)\n",
    "plt.grid(True)\n",
    "plt.show()"
   ]
  },
  {
   "cell_type": "code",
   "execution_count": 132,
   "metadata": {
    "id": "3PRKmDMQzr-F"
   },
   "outputs": [
    {
     "name": "stdout",
     "output_type": "stream",
     "text": [
      "AUC value for SVM model is:  0.9319172113289761\n"
     ]
    }
   ],
   "source": [
    "svm_auc_score = roc_auc_score(test_norm_y, svm_prediction_prob[:,1])\n",
    "print('AUC value for SVM model is: ', svm_auc_score)"
   ]
  },
  {
   "cell_type": "markdown",
   "metadata": {
    "id": "6hiDxvBRzr-F"
   },
   "source": [
    "#### 2. Confusion Matrix"
   ]
  },
  {
   "cell_type": "code",
   "execution_count": 133,
   "metadata": {
    "id": "dp85Y8-wzr-F"
   },
   "outputs": [
    {
     "data": {
      "image/png": "[encoded data removed]",
      "text/plain": [
       "<Figure size 432x288 with 2 Axes>"
      ]
     },
     "metadata": {
      "needs_background": "light"
     },
     "output_type": "display_data"
    }
   ],
   "source": [
    "svm_cm= confusion_matrix(test_norm_y, svm_prediction_norm)\n",
    "svm_cmd=pd.DataFrame(data=svm_cm , index=['Acutal_0','Actual_1'],columns=['Predicted_0','Predicted_1'])\n",
    "sns.heatmap(svm_cmd, annot=True)\n",
    "plt.show()"
   ]
  },
  {
   "cell_type": "markdown",
   "metadata": {
    "id": "FBFDzaQ_zr-F"
   },
   "source": [
    "#### 3. Classification Report"
   ]
  },
  {
   "cell_type": "code",
   "execution_count": 134,
   "metadata": {
    "id": "8T_LBkzrzr-G"
   },
   "outputs": [
    {
     "name": "stdout",
     "output_type": "stream",
     "text": [
      "              precision    recall  f1-score   support\n",
      "\n",
      "           0       0.88      0.85      0.87        27\n",
      "           1       0.89      0.91      0.90        34\n",
      "\n",
      "    accuracy                           0.89        61\n",
      "   macro avg       0.89      0.88      0.88        61\n",
      "weighted avg       0.89      0.89      0.88        61\n",
      "\n"
     ]
    }
   ],
   "source": [
    "svm_report = classification_report(test_norm_y, svm_prediction_norm)\n",
    "print(svm_report)"
   ]
  },
  {
   "cell_type": "markdown",
   "metadata": {
    "id": "tOkPNuQGzr-G"
   },
   "source": [
    "#### 4. Cohen's Kappa Statistic"
   ]
  },
  {
   "cell_type": "code",
   "execution_count": 135,
   "metadata": {
    "id": "oHg10Rmezr-G"
   },
   "outputs": [
    {
     "name": "stdout",
     "output_type": "stream",
     "text": [
      "cohen_kappa value is:  0.7665390924002187\n"
     ]
    }
   ],
   "source": [
    "svm_cohen_kappa = cohen_kappa_score(test_norm_y, svm_prediction_norm)\n",
    "print('cohen_kappa value is: ', svm_cohen_kappa)"
   ]
  },
  {
   "cell_type": "markdown",
   "metadata": {
    "id": "5ZcHbqT1zr-G"
   },
   "source": [
    "## 5. Naïve Bayisan"
   ]
  },
  {
   "cell_type": "markdown",
   "metadata": {
    "id": "jisF-gTYzr-G"
   },
   "source": [
    "#### For Naive Bayisan, all datasets receive the same result"
   ]
  },
  {
   "cell_type": "code",
   "execution_count": 136,
   "metadata": {
    "id": "EhVFS_wkzr-G"
   },
   "outputs": [
    {
     "name": "stdout",
     "output_type": "stream",
     "text": [
      "Accuracy for Original Dataset: 85.24590163934425\n"
     ]
    }
   ],
   "source": [
    "nb_origin = GaussianNB()\n",
    "nb_origin.fit(train_x, train_y)\n",
    "nb_prediction_origin = nb_origin.predict(test_x)\n",
    "print('Accuracy for Original Dataset:', metrics.accuracy_score(nb_prediction_origin,test_y) * 100)"
   ]
  },
  {
   "cell_type": "markdown",
   "metadata": {
    "id": "CDspq1Adzr-G"
   },
   "source": [
    "### Model Evaluation"
   ]
  },
  {
   "cell_type": "markdown",
   "metadata": {
    "id": "_ierMI1uzr-H"
   },
   "source": [
    "#### 1. AUC value for Normalization dataset"
   ]
  },
  {
   "cell_type": "code",
   "execution_count": 137,
   "metadata": {
    "id": "H3IpvmbMzr-H"
   },
   "outputs": [
    {
     "data": {
      "image/png": "[encoded data removed]",
      "text/plain": [
       "<Figure size 432x288 with 1 Axes>"
      ]
     },
     "metadata": {
      "needs_background": "light"
     },
     "output_type": "display_data"
    }
   ],
   "source": [
    "nb_prediction_prob = nb_origin.predict_proba(test_norm_x)\n",
    "\n",
    "nb_fpr,nb_tpr,nb_th = roc_curve(test_norm_y,nb_prediction_prob[:,1])\n",
    "plt.plot([0,1],[0,1],'r--')\n",
    "plt.plot(nb_fpr, nb_tpr)\n",
    "plt.grid(True)\n",
    "plt.show()"
   ]
  },
  {
   "cell_type": "code",
   "execution_count": 138,
   "metadata": {
    "id": "BYf6WrHe37La"
   },
   "outputs": [
    {
     "name": "stdout",
     "output_type": "stream",
     "text": [
      "AUC value for Naive Bayisan model is:  0.8747276688453158\n"
     ]
    }
   ],
   "source": [
    "nb_auc_score = roc_auc_score(test_norm_y, nb_prediction_prob[:,1])\n",
    "print('AUC value for Naive Bayisan model is: ', nb_auc_score)"
   ]
  },
  {
   "cell_type": "markdown",
   "metadata": {
    "id": "uPpR9uIdzr-H"
   },
   "source": [
    "#### 2. Confusion Matrix"
   ]
  },
  {
   "cell_type": "code",
   "execution_count": 139,
   "metadata": {
    "id": "H84314HOzr-H"
   },
   "outputs": [
    {
     "data": {
      "image/png": "[encoded data removed]",
      "text/plain": [
       "<Figure size 432x288 with 2 Axes>"
      ]
     },
     "metadata": {
      "needs_background": "light"
     },
     "output_type": "display_data"
    }
   ],
   "source": [
    "nb_cm= confusion_matrix(test_norm_y, nb_prediction_origin)\n",
    "nb_cmd=pd.DataFrame(data=nb_cm , index=['Acutal_0','Actual_1'],columns=['Predicted_0','Predicted_1'])\n",
    "sns.heatmap(nb_cmd, annot=True)\n",
    "plt.show()"
   ]
  },
  {
   "cell_type": "markdown",
   "metadata": {
    "id": "bXSK3mPTzr-H"
   },
   "source": [
    "#### 3. Classification Report\n",
    "\n",
    "> Indented block\n",
    "\n"
   ]
  },
  {
   "cell_type": "code",
   "execution_count": 140,
   "metadata": {
    "id": "DGik9CXjzr-H"
   },
   "outputs": [
    {
     "name": "stdout",
     "output_type": "stream",
     "text": [
      "              precision    recall  f1-score   support\n",
      "\n",
      "           0       0.85      0.81      0.83        27\n",
      "           1       0.86      0.88      0.87        34\n",
      "\n",
      "    accuracy                           0.85        61\n",
      "   macro avg       0.85      0.85      0.85        61\n",
      "weighted avg       0.85      0.85      0.85        61\n",
      "\n"
     ]
    }
   ],
   "source": [
    "nb_report = classification_report(test_norm_y, nb_prediction_origin)\n",
    "print(nb_report)"
   ]
  },
  {
   "cell_type": "markdown",
   "metadata": {
    "id": "kXewh2EOzr-H"
   },
   "source": [
    "#### 4. Cohen's Kappa Statistic"
   ]
  },
  {
   "cell_type": "code",
   "execution_count": 141,
   "metadata": {
    "id": "Gq110oKNzr-H"
   },
   "outputs": [
    {
     "name": "stdout",
     "output_type": "stream",
     "text": [
      "cohen_kappa value is:  0.6998359759431383\n"
     ]
    }
   ],
   "source": [
    "nb_cohen_kappa = cohen_kappa_score(test_norm_y, nb_prediction_origin)\n",
    "print('cohen_kappa value is: ', nb_cohen_kappa)"
   ]
  },
  {
   "cell_type": "code",
   "execution_count": null,
   "metadata": {
    "id": "Fkd3-O3Vzr-I"
   },
   "outputs": [],
   "source": []
  },
  {
   "cell_type": "markdown",
   "metadata": {
    "id": "NHcpchh_445N"
   },
   "source": [
    "# Performance Evaluation\n"
   ]
  },
  {
   "cell_type": "markdown",
   "metadata": {
    "id": "W9Tpq-aM55Ia"
   },
   "source": [
    "4. ROC Comparison"
   ]
  },
  {
   "cell_type": "code",
   "execution_count": 142,
   "metadata": {
    "id": "IQ02vprd5KUK"
   },
   "outputs": [
    {
     "data": {
      "image/png": "[encoded data removed]",
      "text/plain": [
       "<Figure size 432x288 with 1 Axes>"
      ]
     },
     "metadata": {
      "needs_background": "light"
     },
     "output_type": "display_data"
    }
   ],
   "source": [
    "plt.plot([0,1],[0,1],'r--')\n",
    "plt.plot(nb_fpr, nb_tpr, 'b',label = 'Naive Bayisan')\n",
    "plt.plot(lr_fpr, lr_tpr,label = 'Logistic Regression')\n",
    "plt.plot(svm_fpr, svm_tpr,label = 'SVM')\n",
    "plt.plot(knn_fpr, knn_tpr,label = 'KNN')\n",
    "plt.plot(dt_fpr, dt_tpr,label = 'Decision Tree')\n",
    "plt.legend(loc = 'lower right')\n",
    "plt.ylabel('True Positive Rate')\n",
    "plt.xlabel('False Positive Rate')\n",
    "plt.grid(True)\n",
    "plt.show()"
   ]
  },
  {
   "cell_type": "code",
   "execution_count": 144,
   "metadata": {
    "id": "yL4x5WZY73Go"
   },
   "outputs": [
    {
     "name": "stdout",
     "output_type": "stream",
     "text": [
      "                 Model  Accuracy    f1     AUC  cohen_kappa\n",
      "0  Logistic Regression     85.24  0.85  0.9052       0.7021\n",
      "1                  KNN     86.88  0.87  0.8867       0.7321\n",
      "2        Decision Tree     80.32  0.80  0.8006       0.6000\n",
      "3                  SVM     88.52  0.89  0.9314       0.7665\n",
      "4        Naive Bayisan     85.24  0.85  0.8747       0.6998\n"
     ]
    }
   ],
   "source": [
    "data = {'Model':  ['Logistic Regression', 'KNN',\"Decision Tree\",\"SVM\",\"Naive Bayisan\"],\n",
    "        'Accuracy': [85.24, 86.88,80.32,88.52,85.24],\n",
    "         'f1': [0.85,0.87,0.80,0.89,0.85],\n",
    "        'AUC': [0.9052,0.8867,0.8006,0.9314,0.8747],\n",
    "        'cohen_kappa': [0.7021,0.7321,0.60,0.7665,0.6998]\n",
    "        }\n",
    "\n",
    "df_1 = pd.DataFrame (data, columns = ['Model','Accuracy','f1','AUC','cohen_kappa'])\n",
    "\n",
    "print (df_1)"
   ]
  },
  {
   "cell_type": "code",
   "execution_count": null,
   "metadata": {},
   "outputs": [],
   "source": []
  },
  {
   "cell_type": "code",
   "execution_count": null,
   "metadata": {},
   "outputs": [],
   "source": []
  },
  {
   "cell_type": "code",
   "execution_count": null,
   "metadata": {},
   "outputs": [],
   "source": []
  }
 ],
 "metadata": {
  "colab": {
   "collapsed_sections": [
    "RWSCnwi9zr9m",
    "HjiEtHWJzr9o",
    "GT-Qs1qIzr9o",
    "hKWcw_kAzr9p",
    "vPF6SzfUzr9p",
    "Vm4kUDHlzr9p",
    "cEqt5cCazr9q",
    "_DUPzh5Fzr9q",
    "f4ySwKsSzr9r",
    "mtIfTjSYzr9r",
    "GsWk0Qt3zr9r",
    "e57E4_Q8zr9s",
    "0mvCd187zr9v",
    "DT9yEUIOzr9v",
    "aWaGoNuuzr9x",
    "lpokTc6nzr9y",
    "vq3dm9uizr9y",
    "YM9bJT-6zr9z",
    "p3nTDNi7zr90",
    "zvAYMpw1zr91",
    "aZz_1LCSzr91",
    "21gTWlFczr91",
    "DSaLEbq6zr91",
    "GA9Qs-OHzr92",
    "7_TQtoNAzr92",
    "M-KLtSNRzr93",
    "ErJQab1-zr93",
    "G0uiE8rMzr93",
    "2Ms-fbkbzr94",
    "nNXO9iJBzr94"
   ],
   "name": "Heart_Disease_Prediction.ipynb",
   "provenance": [],
   "toc_visible": true
  },
  "kernelspec": {
   "display_name": "Python 3",
   "language": "python",
   "name": "python3"
  },
  "language_info": {
   "codemirror_mode": {
    "name": "ipython",
    "version": 3
   },
   "file_extension": ".py",
   "mimetype": "text/x-python",
   "name": "python",
   "nbconvert_exporter": "python",
   "pygments_lexer": "ipython3",
   "version": "3.8.0"
  }
 },
 "nbformat": 4,
 "nbformat_minor": 1
}
